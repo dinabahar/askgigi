{
 "cells": [
  {
   "cell_type": "markdown",
   "metadata": {},
   "source": [
    "# Exploratory Data Analysis\n",
    "---\n",
    "#### Import libraries and read data"
   ]
  },
  {
   "cell_type": "code",
   "execution_count": 2,
   "metadata": {},
   "outputs": [],
   "source": [
    "import numpy as np\n",
    "import pandas as pd\n",
    "import matplotlib.pyplot as plt\n",
    "import seaborn as sns\n",
    "from sklearn.feature_extraction.text import CountVectorizer\n",
    "from nltk.corpus import stopwords\n",
    "import re\n",
    "from sklearn.pipeline import Pipeline\n",
    "import pickle\n",
    "from scipy.stats import ttest_ind\n",
    "import warnings\n",
    "warnings.filterwarnings('ignore')"
   ]
  },
  {
   "cell_type": "code",
   "execution_count": 2,
   "metadata": {},
   "outputs": [
    {
     "data": {
      "text/html": [
       "<div>\n",
       "<style scoped>\n",
       "    .dataframe tbody tr th:only-of-type {\n",
       "        vertical-align: middle;\n",
       "    }\n",
       "\n",
       "    .dataframe tbody tr th {\n",
       "        vertical-align: top;\n",
       "    }\n",
       "\n",
       "    .dataframe thead th {\n",
       "        text-align: right;\n",
       "    }\n",
       "</style>\n",
       "<table border=\"1\" class=\"dataframe\">\n",
       "  <thead>\n",
       "    <tr style=\"text-align: right;\">\n",
       "      <th></th>\n",
       "      <th>author</th>\n",
       "      <th>title</th>\n",
       "      <th>selftext</th>\n",
       "      <th>num_comments</th>\n",
       "      <th>score</th>\n",
       "      <th>subreddit</th>\n",
       "      <th>is_ab</th>\n",
       "    </tr>\n",
       "  </thead>\n",
       "  <tbody>\n",
       "    <tr>\n",
       "      <th>0</th>\n",
       "      <td>lululi_lululi</td>\n",
       "      <td>working seasoned estheticians hundreds consult...</td>\n",
       "      <td>project glowism https glowism friend female en...</td>\n",
       "      <td>4</td>\n",
       "      <td>1</td>\n",
       "      <td>asianbeauty</td>\n",
       "      <td>1</td>\n",
       "    </tr>\n",
       "    <tr>\n",
       "      <th>1</th>\n",
       "      <td>BasicBake</td>\n",
       "      <td>wash water</td>\n",
       "      <td>hello wondering wash water usually refrained w...</td>\n",
       "      <td>8</td>\n",
       "      <td>2</td>\n",
       "      <td>asianbeauty</td>\n",
       "      <td>1</td>\n",
       "    </tr>\n",
       "  </tbody>\n",
       "</table>\n",
       "</div>"
      ],
      "text/plain": [
       "          author                                              title  \\\n",
       "0  lululi_lululi  working seasoned estheticians hundreds consult...   \n",
       "1      BasicBake                                         wash water   \n",
       "\n",
       "                                            selftext  num_comments  score  \\\n",
       "0  project glowism https glowism friend female en...             4      1   \n",
       "1  hello wondering wash water usually refrained w...             8      2   \n",
       "\n",
       "     subreddit  is_ab  \n",
       "0  asianbeauty      1  \n",
       "1  asianbeauty      1  "
      ]
     },
     "execution_count": 2,
     "metadata": {},
     "output_type": "execute_result"
    }
   ],
   "source": [
    "df = pd.read_csv('../data/cleaned_skincare.csv')\n",
    "df.dropna(inplace=True)\n",
    "\n",
    "df.head(2)"
   ]
  },
  {
   "cell_type": "markdown",
   "metadata": {},
   "source": [
    "## Explore distribution of numeric features\n",
    "---"
   ]
  },
  {
   "cell_type": "markdown",
   "metadata": {},
   "source": [
    "#### Summary statistics on numeric features\n",
    "\n",
    "Both subreddits have greater mean than median for `num_comments` and `score`. Which means, most values for the two features are clustered around the left tail of the distribution with few high values.\n",
    "\n",
    "To expand, on average, `AsianBeauty` subreddit has 6x more comments and 21x higher scores per post than `SkincareAddiction`.\n",
    "\n",
    "While higher comments per post insinuates a more active community, a higher score can mean a few things about a subreddit. First, let's explore how a submission's score is determined,\n",
    ">A submission's score is simply the number of upvotes minus the number of downvotes. If five users like the submission and three users don't it will have a score of 2.\n",
    "\n",
    "[Source: Reddit FAQ](https://www.reddit.com/wiki/faq#wiki_how_is_a_submission.27s_score_determined.3F)\n",
    "\n",
    "With Reddit's scoring in mind, it is important to note that **post scores does not hint at the communities' activity or responsiveness** because this might mean mean that the `AsianBeauty` community often upvotes and rarely downvotes, or the `SkincareAddiction` community is more assertive in upvoting and downvoting. In the two scenarios mentioned, one subreddit can be just as active as the other."
   ]
  },
  {
   "cell_type": "code",
   "execution_count": 3,
   "metadata": {},
   "outputs": [
    {
     "data": {
      "text/html": [
       "<div>\n",
       "<style scoped>\n",
       "    .dataframe tbody tr th:only-of-type {\n",
       "        vertical-align: middle;\n",
       "    }\n",
       "\n",
       "    .dataframe tbody tr th {\n",
       "        vertical-align: top;\n",
       "    }\n",
       "\n",
       "    .dataframe thead th {\n",
       "        text-align: right;\n",
       "    }\n",
       "</style>\n",
       "<table border=\"1\" class=\"dataframe\">\n",
       "  <thead>\n",
       "    <tr style=\"text-align: right;\">\n",
       "      <th></th>\n",
       "      <th>subreddit</th>\n",
       "      <th>asianbeauty</th>\n",
       "      <th>skincareaddiction</th>\n",
       "    </tr>\n",
       "  </thead>\n",
       "  <tbody>\n",
       "    <tr>\n",
       "      <th rowspan=\"8\" valign=\"top\">num_comments</th>\n",
       "      <th>count</th>\n",
       "      <td>8771.00</td>\n",
       "      <td>8887.00</td>\n",
       "    </tr>\n",
       "    <tr>\n",
       "      <th>mean</th>\n",
       "      <td>28.71</td>\n",
       "      <td>6.79</td>\n",
       "    </tr>\n",
       "    <tr>\n",
       "      <th>std</th>\n",
       "      <td>45.26</td>\n",
       "      <td>16.54</td>\n",
       "    </tr>\n",
       "    <tr>\n",
       "      <th>min</th>\n",
       "      <td>0.00</td>\n",
       "      <td>0.00</td>\n",
       "    </tr>\n",
       "    <tr>\n",
       "      <th>25%</th>\n",
       "      <td>2.00</td>\n",
       "      <td>1.50</td>\n",
       "    </tr>\n",
       "    <tr>\n",
       "      <th>50%</th>\n",
       "      <td>14.00</td>\n",
       "      <td>4.00</td>\n",
       "    </tr>\n",
       "    <tr>\n",
       "      <th>75%</th>\n",
       "      <td>36.00</td>\n",
       "      <td>8.00</td>\n",
       "    </tr>\n",
       "    <tr>\n",
       "      <th>max</th>\n",
       "      <td>868.00</td>\n",
       "      <td>546.00</td>\n",
       "    </tr>\n",
       "    <tr>\n",
       "      <th rowspan=\"8\" valign=\"top\">score</th>\n",
       "      <th>count</th>\n",
       "      <td>8771.00</td>\n",
       "      <td>8887.00</td>\n",
       "    </tr>\n",
       "    <tr>\n",
       "      <th>mean</th>\n",
       "      <td>30.60</td>\n",
       "      <td>1.16</td>\n",
       "    </tr>\n",
       "    <tr>\n",
       "      <th>std</th>\n",
       "      <td>64.48</td>\n",
       "      <td>2.86</td>\n",
       "    </tr>\n",
       "    <tr>\n",
       "      <th>min</th>\n",
       "      <td>0.00</td>\n",
       "      <td>0.00</td>\n",
       "    </tr>\n",
       "    <tr>\n",
       "      <th>25%</th>\n",
       "      <td>1.00</td>\n",
       "      <td>1.00</td>\n",
       "    </tr>\n",
       "    <tr>\n",
       "      <th>50%</th>\n",
       "      <td>10.00</td>\n",
       "      <td>1.00</td>\n",
       "    </tr>\n",
       "    <tr>\n",
       "      <th>75%</th>\n",
       "      <td>32.00</td>\n",
       "      <td>1.00</td>\n",
       "    </tr>\n",
       "    <tr>\n",
       "      <th>max</th>\n",
       "      <td>1250.00</td>\n",
       "      <td>175.00</td>\n",
       "    </tr>\n",
       "  </tbody>\n",
       "</table>\n",
       "</div>"
      ],
      "text/plain": [
       "subreddit           asianbeauty  skincareaddiction\n",
       "num_comments count      8771.00            8887.00\n",
       "             mean         28.71               6.79\n",
       "             std          45.26              16.54\n",
       "             min           0.00               0.00\n",
       "             25%           2.00               1.50\n",
       "             50%          14.00               4.00\n",
       "             75%          36.00               8.00\n",
       "             max         868.00             546.00\n",
       "score        count      8771.00            8887.00\n",
       "             mean         30.60               1.16\n",
       "             std          64.48               2.86\n",
       "             min           0.00               0.00\n",
       "             25%           1.00               1.00\n",
       "             50%          10.00               1.00\n",
       "             75%          32.00               1.00\n",
       "             max        1250.00             175.00"
      ]
     },
     "execution_count": 3,
     "metadata": {},
     "output_type": "execute_result"
    }
   ],
   "source": [
    "round(df.drop(columns='is_ab').groupby('subreddit').describe().T,2)"
   ]
  },
  {
   "cell_type": "markdown",
   "metadata": {},
   "source": [
    "#### Plot the distribution of `num_comments`\n",
    "\n",
    "As implied by the greater mean than median from the summary statistics above, we expect outliers on the right tail and have more observations with low values of `num_comments`. Hence, I'm only looking at the distribution of `num_comments` where approx. 75% of our data lies.\n",
    "\n",
    "The histogram below emphasizes how the majority of posts in SkincareAddiction subreddit have less than 10 comments and the distribution of scores in AsianBeauty is more varied."
   ]
  },
  {
   "cell_type": "code",
   "execution_count": 4,
   "metadata": {},
   "outputs": [
    {
     "data": {
      "image/png": "[encoded data removed]",
      "text/plain": [
       "<Figure size 576x432 with 1 Axes>"
      ]
     },
     "metadata": {
      "needs_background": "light"
     },
     "output_type": "display_data"
    }
   ],
   "source": [
    "plt.figure(figsize=(8,6))\n",
    "plt.hist([df[(df['is_ab']==1) & (df['num_comments'] < 40)]['num_comments'],\n",
    "          df[(df['is_ab']==0) & (df['num_comments'] < 40)]['num_comments']],\n",
    "         bins=4,\n",
    "         color=['pink', 'lightgrey'],\n",
    "         ec='w')\n",
    "\n",
    "plt.title('Distribution of Number of Comments', fontsize=12)\n",
    "plt.xlabel('Number of Comments')\n",
    "plt.ylabel('Frequency')\n",
    "plt.legend(['asianbeauty', 'skincareaddiction']);\n",
    "\n",
    "# Daniel Kim"
   ]
  },
  {
   "cell_type": "markdown",
   "metadata": {},
   "source": [
    "#### Plot the distribution of `score`\n",
    "\n",
    "I'm also only looking at the distribution of `score` where approx. 75% of our data lies. Shown on the histogram below how the majority of posts in SkincareAddiction subreddit have less than 10 scores and the distribution of scores in AsianBeauty is more varied."
   ]
  },
  {
   "cell_type": "code",
   "execution_count": 5,
   "metadata": {},
   "outputs": [
    {
     "data": {
      "image/png": "[encoded data removed]",
      "text/plain": [
       "<Figure size 576x432 with 1 Axes>"
      ]
     },
     "metadata": {
      "needs_background": "light"
     },
     "output_type": "display_data"
    }
   ],
   "source": [
    "plt.figure(figsize=(8,6))\n",
    "plt.hist([df[(df['is_ab']==1) & (df['score'] < 40)]['score'],\n",
    "          df[(df['is_ab']==0) & (df['score'] < 40)]['score']],\n",
    "         bins=4,\n",
    "         color=['pink', 'lightgrey'],\n",
    "         ec='w')\n",
    "\n",
    "plt.title('Distribution of Score', fontsize=12)\n",
    "plt.xlabel('Score')\n",
    "plt.ylabel('Frequency')\n",
    "plt.legend(['asianbeauty', 'skincareaddiction']);\n",
    "\n",
    "# Daniel Kim"
   ]
  },
  {
   "cell_type": "markdown",
   "metadata": {},
   "source": [
    "## Explore length of post `title`\n",
    "---"
   ]
  },
  {
   "cell_type": "markdown",
   "metadata": {},
   "source": [
    "##### Count words and characters in `title`s"
   ]
  },
  {
   "cell_type": "code",
   "execution_count": 6,
   "metadata": {},
   "outputs": [],
   "source": [
    "df['title_word_count'] = df['title'].apply(lambda x: x.count(' '))\n",
    "\n",
    "df['title_char_count'] = df['title'].apply(lambda x : len(x))"
   ]
  },
  {
   "cell_type": "markdown",
   "metadata": {},
   "source": [
    "##### Plot word and character length in `title`s\n",
    "\n",
    "The majority of titles are less than 10 words, or 50 characters. For comparison, these titles are generally as short as short as,\n",
    ">The quick brown fox jumps over the lazy dog.\n",
    "\n",
    "(9 words, 43 characters)\n",
    "\n",
    "Which is generally enough words in a title to describe the post."
   ]
  },
  {
   "cell_type": "code",
   "execution_count": 7,
   "metadata": {},
   "outputs": [
    {
     "data": {
      "image/png": "[encoded data removed]",
      "text/plain": [
       "<Figure size 576x432 with 1 Axes>"
      ]
     },
     "metadata": {
      "needs_background": "light"
     },
     "output_type": "display_data"
    }
   ],
   "source": [
    "plt.figure(figsize=(8,6))\n",
    "plt.hist([df[df['is_ab']==1]['title_word_count'],\n",
    "          df[df['is_ab']==0]['title_word_count']],\n",
    "         bins=5,\n",
    "         color=['pink', 'lightgrey'],\n",
    "         ec='w')\n",
    "\n",
    "plt.title('Distribution of Title Word Count', fontsize=12)\n",
    "plt.xlabel('title_word_count')\n",
    "plt.ylabel('Frequency')\n",
    "plt.legend(['asianbeauty', 'skincareaddiction']);\n",
    "\n",
    "# Daniel Kim"
   ]
  },
  {
   "cell_type": "code",
   "execution_count": 8,
   "metadata": {},
   "outputs": [
    {
     "data": {
      "image/png": "[encoded data removed]",
      "text/plain": [
       "<Figure size 576x432 with 1 Axes>"
      ]
     },
     "metadata": {
      "needs_background": "light"
     },
     "output_type": "display_data"
    }
   ],
   "source": [
    "plt.figure(figsize=(8,6))\n",
    "plt.hist([df[df['is_ab']==1]['title_char_count'],\n",
    "          df[df['is_ab']==0]['title_char_count']],\n",
    "         bins=5,\n",
    "         color=['pink', 'lightgrey'],\n",
    "         ec='w')\n",
    "\n",
    "plt.title('Distribution of Title Character Count', fontsize=12)\n",
    "plt.xlabel('title_char_count')\n",
    "plt.ylabel('Frequency')\n",
    "plt.legend(['asianbeauty', 'skincareaddiction']);\n",
    "\n",
    "# Daniel Kim"
   ]
  },
  {
   "cell_type": "markdown",
   "metadata": {},
   "source": [
    "## Explore length of post `selftext`\n",
    "---\n",
    "##### Count words and characters in `selftext`"
   ]
  },
  {
   "cell_type": "code",
   "execution_count": 9,
   "metadata": {},
   "outputs": [],
   "source": [
    "df['selftext_word_count'] = df['selftext'].apply(lambda x: str(x).count(' '))\n",
    "\n",
    "df['selftext_char_count'] = df['selftext'].apply(lambda x : len(str(x)))"
   ]
  },
  {
   "cell_type": "markdown",
   "metadata": {},
   "source": [
    "##### Plot word and character length in `selftext`\n",
    "\n",
    "The majority of selftext are less than 200 words, or 1000 characters. These would convert to about 0.7 minutes of reading ([source](https://capitalizemytitle.com/reading-time/200-words/))."
   ]
  },
  {
   "cell_type": "code",
   "execution_count": 10,
   "metadata": {},
   "outputs": [
    {
     "data": {
      "image/png": "[encoded data removed]",
      "text/plain": [
       "<Figure size 576x432 with 1 Axes>"
      ]
     },
     "metadata": {
      "needs_background": "light"
     },
     "output_type": "display_data"
    }
   ],
   "source": [
    "plt.figure(figsize=(8,6))\n",
    "plt.hist([df[(df['is_ab']==1) & (df['selftext_word_count']<500)]['selftext_word_count'],\n",
    "          df[(df['is_ab']==0) & (df['selftext_word_count']<500)]['selftext_word_count']],\n",
    "         bins=5,\n",
    "         color=['pink', 'lightgrey'],\n",
    "         ec='w')\n",
    "\n",
    "plt.title('Distribution of Selftext Word Count', fontsize=12)\n",
    "plt.xlabel('selftext_word_count')\n",
    "plt.ylabel('Frequency')\n",
    "plt.legend(['asianbeauty', 'skincareaddiction']);\n",
    "\n",
    "# Daniel Kim"
   ]
  },
  {
   "cell_type": "code",
   "execution_count": 11,
   "metadata": {},
   "outputs": [
    {
     "data": {
      "image/png": "[encoded data removed]",
      "text/plain": [
       "<Figure size 576x432 with 1 Axes>"
      ]
     },
     "metadata": {
      "needs_background": "light"
     },
     "output_type": "display_data"
    }
   ],
   "source": [
    "plt.figure(figsize=(8,6))\n",
    "plt.hist([df[(df['is_ab']==1) & (df['selftext_char_count']<5000)]['selftext_char_count'],\n",
    "          df[(df['is_ab']==0) & (df['selftext_char_count']<5000)]['selftext_char_count']],\n",
    "         bins=10,\n",
    "         color=['pink', 'lightgrey'],\n",
    "         ec='w')\n",
    "\n",
    "plt.title('Distribution of Selftext Character Count', fontsize=12)\n",
    "plt.xlabel('selftext_char_count')\n",
    "plt.ylabel('Frequency')\n",
    "plt.legend(['asianbeauty', 'skincareaddiction']);\n",
    "\n",
    "# Daniel Kim"
   ]
  },
  {
   "cell_type": "markdown",
   "metadata": {},
   "source": [
    "## Explore correlations between numeric features\n",
    "---\n",
    "I assumed that shorter titles and selftexts might represent skincare questions and concerns that lead to more engagement from the community (higher `num_comments`) to share their experiences or thoughts. Yet, the correlation heatmap below shows that the correlation between`title` or `selftext` length and `num_comments` are all less than 0.1 (weak).\n",
    "\n",
    "However, I found that the `score` is indeed positively correlated (.52) to `num_comments` which is an indicator of community activity. We can conclude that active subreddits have high scores and number of comments. However, the correlation does not equate to causation."
   ]
  },
  {
   "cell_type": "code",
   "execution_count": 12,
   "metadata": {},
   "outputs": [
    {
     "data": {
      "image/png": "[encoded data removed]",
      "text/plain": [
       "<Figure size 1008x576 with 2 Axes>"
      ]
     },
     "metadata": {
      "needs_background": "light"
     },
     "output_type": "display_data"
    }
   ],
   "source": [
    "plt.figure(figsize=(14,8))\n",
    "\n",
    "sns.heatmap(df.drop(columns = 'is_ab').corr(), mask=np.triu(df.drop(columns = 'is_ab').corr()), annot=True, cmap='coolwarm', vmin=-1, vmax=1)\n",
    "\n",
    "locs, labels = plt.xticks()\n",
    "plt.setp(labels, rotation=0)\n",
    "\n",
    "locs, labels = plt.yticks()\n",
    "plt.setp(labels, rotation=0)\n",
    "\n",
    "plt.title('Correlation Heatmap of Numeric Features',  fontsize = 18);"
   ]
  },
  {
   "cell_type": "markdown",
   "metadata": {},
   "source": [
    "## Explore words used in subreddits\n",
    "---\n"
   ]
  },
  {
   "cell_type": "markdown",
   "metadata": {},
   "source": [
    "### Combine text data"
   ]
  },
  {
   "cell_type": "code",
   "execution_count": 13,
   "metadata": {},
   "outputs": [],
   "source": [
    "df['combined_text'] = df['title'] + ' ' + df['selftext']"
   ]
  },
  {
   "cell_type": "markdown",
   "metadata": {},
   "source": [
    "### Vectorize text data"
   ]
  },
  {
   "cell_type": "code",
   "execution_count": 14,
   "metadata": {},
   "outputs": [
    {
     "data": {
      "text/html": [
       "<div>\n",
       "<style scoped>\n",
       "    .dataframe tbody tr th:only-of-type {\n",
       "        vertical-align: middle;\n",
       "    }\n",
       "\n",
       "    .dataframe tbody tr th {\n",
       "        vertical-align: top;\n",
       "    }\n",
       "\n",
       "    .dataframe thead th {\n",
       "        text-align: right;\n",
       "    }\n",
       "</style>\n",
       "<table border=\"1\" class=\"dataframe\">\n",
       "  <thead>\n",
       "    <tr style=\"text-align: right;\">\n",
       "      <th></th>\n",
       "      <th>acid</th>\n",
       "      <th>acne</th>\n",
       "      <th>actually</th>\n",
       "      <th>add</th>\n",
       "      <th>advice</th>\n",
       "      <th>aging</th>\n",
       "      <th>ago</th>\n",
       "      <th>aha</th>\n",
       "      <th>amazon</th>\n",
       "      <th>anti</th>\n",
       "      <th>...</th>\n",
       "      <th>week</th>\n",
       "      <th>weeks</th>\n",
       "      <th>went</th>\n",
       "      <th>white</th>\n",
       "      <th>wondering</th>\n",
       "      <th>work</th>\n",
       "      <th>works</th>\n",
       "      <th>year</th>\n",
       "      <th>years</th>\n",
       "      <th>zinc</th>\n",
       "    </tr>\n",
       "  </thead>\n",
       "  <tbody>\n",
       "    <tr>\n",
       "      <th>0</th>\n",
       "      <td>0</td>\n",
       "      <td>1</td>\n",
       "      <td>0</td>\n",
       "      <td>0</td>\n",
       "      <td>0</td>\n",
       "      <td>0</td>\n",
       "      <td>0</td>\n",
       "      <td>0</td>\n",
       "      <td>0</td>\n",
       "      <td>0</td>\n",
       "      <td>...</td>\n",
       "      <td>0</td>\n",
       "      <td>0</td>\n",
       "      <td>0</td>\n",
       "      <td>0</td>\n",
       "      <td>0</td>\n",
       "      <td>1</td>\n",
       "      <td>0</td>\n",
       "      <td>0</td>\n",
       "      <td>2</td>\n",
       "      <td>0</td>\n",
       "    </tr>\n",
       "    <tr>\n",
       "      <th>1</th>\n",
       "      <td>0</td>\n",
       "      <td>0</td>\n",
       "      <td>0</td>\n",
       "      <td>0</td>\n",
       "      <td>0</td>\n",
       "      <td>0</td>\n",
       "      <td>1</td>\n",
       "      <td>0</td>\n",
       "      <td>0</td>\n",
       "      <td>0</td>\n",
       "      <td>...</td>\n",
       "      <td>0</td>\n",
       "      <td>0</td>\n",
       "      <td>0</td>\n",
       "      <td>0</td>\n",
       "      <td>2</td>\n",
       "      <td>0</td>\n",
       "      <td>0</td>\n",
       "      <td>0</td>\n",
       "      <td>1</td>\n",
       "      <td>0</td>\n",
       "    </tr>\n",
       "  </tbody>\n",
       "</table>\n",
       "<p>2 rows × 200 columns</p>\n",
       "</div>"
      ],
      "text/plain": [
       "   acid  acne  actually  add  advice  aging  ago  aha  amazon  anti  ...  \\\n",
       "0     0     1         0    0       0      0    0    0       0     0  ...   \n",
       "1     0     0         0    0       0      0    1    0       0     0  ...   \n",
       "\n",
       "   week  weeks  went  white  wondering  work  works  year  years  zinc  \n",
       "0     0      0     0      0          0     1      0     0      2     0  \n",
       "1     0      0     0      0          2     0      0     0      1     0  \n",
       "\n",
       "[2 rows x 200 columns]"
      ]
     },
     "execution_count": 14,
     "metadata": {},
     "output_type": "execute_result"
    }
   ],
   "source": [
    "custom_stopwords = pickle.load(open('../assets/custom_stopwords.pkl', 'rb'))\n",
    "\n",
    "cvec = CountVectorizer(stop_words=custom_stopwords, min_df=5, max_df=.8, max_features=200)\n",
    "\n",
    "cvec_text = cvec.fit_transform(df['combined_text'])\n",
    "\n",
    "text_features = cvec.get_feature_names()\n",
    "\n",
    "feat_to_drop = []\n",
    "\n",
    "for i in text_features:\n",
    "    if re.match('[0-9]\\S+', i):\n",
    "        feat_to_drop.append(i)\n",
    "        \n",
    "text_df = pd.DataFrame(cvec_text.toarray(), columns=cvec.get_feature_names())\n",
    "\n",
    "text_df.drop(columns= feat_to_drop, inplace = True)\n",
    "text_df.head(2)"
   ]
  },
  {
   "cell_type": "markdown",
   "metadata": {},
   "source": [
    "##### Check the top 20 most frequent words in AsianBeauty subreddit"
   ]
  },
  {
   "cell_type": "code",
   "execution_count": 15,
   "metadata": {},
   "outputs": [],
   "source": [
    "is_ab = df['is_ab']\n",
    "\n",
    "text_df.insert(0, 'is_ab', is_ab)"
   ]
  },
  {
   "cell_type": "code",
   "execution_count": 16,
   "metadata": {
    "scrolled": true
   },
   "outputs": [
    {
     "data": {
      "text/html": [
       "<div>\n",
       "<style scoped>\n",
       "    .dataframe tbody tr th:only-of-type {\n",
       "        vertical-align: middle;\n",
       "    }\n",
       "\n",
       "    .dataframe tbody tr th {\n",
       "        vertical-align: top;\n",
       "    }\n",
       "\n",
       "    .dataframe thead th {\n",
       "        text-align: right;\n",
       "    }\n",
       "</style>\n",
       "<table border=\"1\" class=\"dataframe\">\n",
       "  <thead>\n",
       "    <tr style=\"text-align: right;\">\n",
       "      <th>is_ab</th>\n",
       "      <th>0.0</th>\n",
       "      <th>1.0</th>\n",
       "    </tr>\n",
       "  </thead>\n",
       "  <tbody>\n",
       "    <tr>\n",
       "      <th>https</th>\n",
       "      <td>2618</td>\n",
       "      <td>4066</td>\n",
       "    </tr>\n",
       "    <tr>\n",
       "      <th>mask</th>\n",
       "      <td>1297</td>\n",
       "      <td>3555</td>\n",
       "    </tr>\n",
       "    <tr>\n",
       "      <th>cream</th>\n",
       "      <td>3095</td>\n",
       "      <td>3397</td>\n",
       "    </tr>\n",
       "    <tr>\n",
       "      <th>oil</th>\n",
       "      <td>3326</td>\n",
       "      <td>2713</td>\n",
       "    </tr>\n",
       "    <tr>\n",
       "      <th>good</th>\n",
       "      <td>2105</td>\n",
       "      <td>2670</td>\n",
       "    </tr>\n",
       "    <tr>\n",
       "      <th>skincare</th>\n",
       "      <td>2478</td>\n",
       "      <td>2653</td>\n",
       "    </tr>\n",
       "    <tr>\n",
       "      <th>time</th>\n",
       "      <td>2319</td>\n",
       "      <td>2414</td>\n",
       "    </tr>\n",
       "    <tr>\n",
       "      <th>sunscreen</th>\n",
       "      <td>2208</td>\n",
       "      <td>2343</td>\n",
       "    </tr>\n",
       "    <tr>\n",
       "      <th>new</th>\n",
       "      <td>1688</td>\n",
       "      <td>2263</td>\n",
       "    </tr>\n",
       "    <tr>\n",
       "      <th>masks</th>\n",
       "      <td>393</td>\n",
       "      <td>2168</td>\n",
       "    </tr>\n",
       "    <tr>\n",
       "      <th>dry</th>\n",
       "      <td>3336</td>\n",
       "      <td>2095</td>\n",
       "    </tr>\n",
       "    <tr>\n",
       "      <th>acne</th>\n",
       "      <td>6930</td>\n",
       "      <td>2087</td>\n",
       "    </tr>\n",
       "    <tr>\n",
       "      <th>essence</th>\n",
       "      <td>510</td>\n",
       "      <td>2074</td>\n",
       "    </tr>\n",
       "    <tr>\n",
       "      <th>makeup</th>\n",
       "      <td>1188</td>\n",
       "      <td>1987</td>\n",
       "    </tr>\n",
       "    <tr>\n",
       "      <th>think</th>\n",
       "      <td>1767</td>\n",
       "      <td>1947</td>\n",
       "    </tr>\n",
       "    <tr>\n",
       "      <th>used</th>\n",
       "      <td>2283</td>\n",
       "      <td>1912</td>\n",
       "    </tr>\n",
       "    <tr>\n",
       "      <th>review</th>\n",
       "      <td>257</td>\n",
       "      <td>1838</td>\n",
       "    </tr>\n",
       "    <tr>\n",
       "      <th>love</th>\n",
       "      <td>898</td>\n",
       "      <td>1827</td>\n",
       "    </tr>\n",
       "    <tr>\n",
       "      <th>water</th>\n",
       "      <td>2150</td>\n",
       "      <td>1809</td>\n",
       "    </tr>\n",
       "    <tr>\n",
       "      <th>cosrx</th>\n",
       "      <td>544</td>\n",
       "      <td>1760</td>\n",
       "    </tr>\n",
       "  </tbody>\n",
       "</table>\n",
       "</div>"
      ],
      "text/plain": [
       "is_ab       0.0   1.0\n",
       "https      2618  4066\n",
       "mask       1297  3555\n",
       "cream      3095  3397\n",
       "oil        3326  2713\n",
       "good       2105  2670\n",
       "skincare   2478  2653\n",
       "time       2319  2414\n",
       "sunscreen  2208  2343\n",
       "new        1688  2263\n",
       "masks       393  2168\n",
       "dry        3336  2095\n",
       "acne       6930  2087\n",
       "essence     510  2074\n",
       "makeup     1188  1987\n",
       "think      1767  1947\n",
       "used       2283  1912\n",
       "review      257  1838\n",
       "love        898  1827\n",
       "water      2150  1809\n",
       "cosrx       544  1760"
      ]
     },
     "execution_count": 16,
     "metadata": {},
     "output_type": "execute_result"
    }
   ],
   "source": [
    "round(text_df.groupby('is_ab').sum().T.sort_values(1, ascending=False),2).head(20)"
   ]
  },
  {
   "cell_type": "markdown",
   "metadata": {},
   "source": [
    "##### Check the top 20 most frequent words in SkincareAddiction subreddit"
   ]
  },
  {
   "cell_type": "code",
   "execution_count": 17,
   "metadata": {
    "scrolled": true
   },
   "outputs": [
    {
     "data": {
      "text/html": [
       "<div>\n",
       "<style scoped>\n",
       "    .dataframe tbody tr th:only-of-type {\n",
       "        vertical-align: middle;\n",
       "    }\n",
       "\n",
       "    .dataframe tbody tr th {\n",
       "        vertical-align: top;\n",
       "    }\n",
       "\n",
       "    .dataframe thead th {\n",
       "        text-align: right;\n",
       "    }\n",
       "</style>\n",
       "<table border=\"1\" class=\"dataframe\">\n",
       "  <thead>\n",
       "    <tr style=\"text-align: right;\">\n",
       "      <th>is_ab</th>\n",
       "      <th>0.0</th>\n",
       "      <th>1.0</th>\n",
       "    </tr>\n",
       "  </thead>\n",
       "  <tbody>\n",
       "    <tr>\n",
       "      <th>acne</th>\n",
       "      <td>6930</td>\n",
       "      <td>2087</td>\n",
       "    </tr>\n",
       "    <tr>\n",
       "      <th>cleanser</th>\n",
       "      <td>3925</td>\n",
       "      <td>1731</td>\n",
       "    </tr>\n",
       "    <tr>\n",
       "      <th>acid</th>\n",
       "      <td>3721</td>\n",
       "      <td>1234</td>\n",
       "    </tr>\n",
       "    <tr>\n",
       "      <th>dry</th>\n",
       "      <td>3336</td>\n",
       "      <td>2095</td>\n",
       "    </tr>\n",
       "    <tr>\n",
       "      <th>oil</th>\n",
       "      <td>3326</td>\n",
       "      <td>2713</td>\n",
       "    </tr>\n",
       "    <tr>\n",
       "      <th>moisturizer</th>\n",
       "      <td>3222</td>\n",
       "      <td>973</td>\n",
       "    </tr>\n",
       "    <tr>\n",
       "      <th>cream</th>\n",
       "      <td>3095</td>\n",
       "      <td>3397</td>\n",
       "    </tr>\n",
       "    <tr>\n",
       "      <th>https</th>\n",
       "      <td>2618</td>\n",
       "      <td>4066</td>\n",
       "    </tr>\n",
       "    <tr>\n",
       "      <th>skincare</th>\n",
       "      <td>2478</td>\n",
       "      <td>2653</td>\n",
       "    </tr>\n",
       "    <tr>\n",
       "      <th>cerave</th>\n",
       "      <td>2386</td>\n",
       "      <td>317</td>\n",
       "    </tr>\n",
       "    <tr>\n",
       "      <th>time</th>\n",
       "      <td>2319</td>\n",
       "      <td>2414</td>\n",
       "    </tr>\n",
       "    <tr>\n",
       "      <th>used</th>\n",
       "      <td>2283</td>\n",
       "      <td>1912</td>\n",
       "    </tr>\n",
       "    <tr>\n",
       "      <th>day</th>\n",
       "      <td>2231</td>\n",
       "      <td>1740</td>\n",
       "    </tr>\n",
       "    <tr>\n",
       "      <th>sunscreen</th>\n",
       "      <td>2208</td>\n",
       "      <td>2343</td>\n",
       "    </tr>\n",
       "    <tr>\n",
       "      <th>water</th>\n",
       "      <td>2150</td>\n",
       "      <td>1809</td>\n",
       "    </tr>\n",
       "    <tr>\n",
       "      <th>good</th>\n",
       "      <td>2105</td>\n",
       "      <td>2670</td>\n",
       "    </tr>\n",
       "    <tr>\n",
       "      <th>oily</th>\n",
       "      <td>2044</td>\n",
       "      <td>1146</td>\n",
       "    </tr>\n",
       "    <tr>\n",
       "      <th>serum</th>\n",
       "      <td>1992</td>\n",
       "      <td>1403</td>\n",
       "    </tr>\n",
       "    <tr>\n",
       "      <th>question</th>\n",
       "      <td>1964</td>\n",
       "      <td>943</td>\n",
       "    </tr>\n",
       "    <tr>\n",
       "      <th>ordinary</th>\n",
       "      <td>1952</td>\n",
       "      <td>250</td>\n",
       "    </tr>\n",
       "  </tbody>\n",
       "</table>\n",
       "</div>"
      ],
      "text/plain": [
       "is_ab         0.0   1.0\n",
       "acne         6930  2087\n",
       "cleanser     3925  1731\n",
       "acid         3721  1234\n",
       "dry          3336  2095\n",
       "oil          3326  2713\n",
       "moisturizer  3222   973\n",
       "cream        3095  3397\n",
       "https        2618  4066\n",
       "skincare     2478  2653\n",
       "cerave       2386   317\n",
       "time         2319  2414\n",
       "used         2283  1912\n",
       "day          2231  1740\n",
       "sunscreen    2208  2343\n",
       "water        2150  1809\n",
       "good         2105  2670\n",
       "oily         2044  1146\n",
       "serum        1992  1403\n",
       "question     1964   943\n",
       "ordinary     1952   250"
      ]
     },
     "execution_count": 17,
     "metadata": {},
     "output_type": "execute_result"
    }
   ],
   "source": [
    "round(text_df.groupby('is_ab').sum().T.sort_values(0, ascending=False),2).head(20)"
   ]
  },
  {
   "cell_type": "markdown",
   "metadata": {},
   "source": [
    "##### Check if there are overlapping frequent words"
   ]
  },
  {
   "cell_type": "code",
   "execution_count": 18,
   "metadata": {},
   "outputs": [],
   "source": [
    "top_words_azn = list(text_df.groupby('is_ab').\n",
    "     mean().T.sort_values(1, ascending=False).head(50).index)\n",
    "\n",
    "top_words_skin = list(text_df.groupby('is_ab').\n",
    "     mean().T.sort_values(0, ascending=False).head(50).index)"
   ]
  },
  {
   "cell_type": "code",
   "execution_count": 19,
   "metadata": {
    "scrolled": true
   },
   "outputs": [
    {
     "data": {
      "text/plain": [
       "['https',\n",
       " 'mask',\n",
       " 'cream',\n",
       " 'oil',\n",
       " 'good',\n",
       " 'skincare',\n",
       " 'time',\n",
       " 'sunscreen',\n",
       " 'new',\n",
       " 'dry',\n",
       " 'acne',\n",
       " 'think',\n",
       " 'used',\n",
       " 'water',\n",
       " 'day',\n",
       " 'cleanser',\n",
       " 'want',\n",
       " 'feel',\n",
       " 'toner',\n",
       " 'make',\n",
       " 'gel',\n",
       " 'lot',\n",
       " 'looking',\n",
       " 'serum',\n",
       " 'got',\n",
       " 'acid',\n",
       " 'need']"
      ]
     },
     "execution_count": 19,
     "metadata": {},
     "output_type": "execute_result"
    }
   ],
   "source": [
    "top_words_overlap = [i for i in top_words_azn if i in top_words_skin]\n",
    "top_words_overlap"
   ]
  },
  {
   "cell_type": "markdown",
   "metadata": {},
   "source": [
    "##### Check differentiating words (not overlapping)\n",
    "Differentiating words **might** be the keywords that help my model make accurate predictions."
   ]
  },
  {
   "cell_type": "code",
   "execution_count": 20,
   "metadata": {
    "scrolled": true
   },
   "outputs": [
    {
     "data": {
      "text/plain": [
       "['masks',\n",
       " 'essence',\n",
       " 'makeup',\n",
       " 'review',\n",
       " 'love',\n",
       " 'cosrx',\n",
       " 'sheet',\n",
       " 'ingredients',\n",
       " 'people',\n",
       " 'best',\n",
       " 'reddit',\n",
       " 'cleansing',\n",
       " 'look',\n",
       " 'try',\n",
       " 'asianbeauty',\n",
       " 'extract',\n",
       " 'comments',\n",
       " 'snail',\n",
       " 'long',\n",
       " 'hair',\n",
       " 'pretty',\n",
       " 'little',\n",
       " 'amazon']"
      ]
     },
     "execution_count": 20,
     "metadata": {},
     "output_type": "execute_result"
    }
   ],
   "source": [
    "# AsianBeauty\n",
    "top_words_differ = [i for i in top_words_azn if i not in top_words_skin]\n",
    "top_words_differ"
   ]
  },
  {
   "cell_type": "code",
   "execution_count": 21,
   "metadata": {
    "scrolled": true
   },
   "outputs": [
    {
     "data": {
      "text/plain": [
       "['moisturizer',\n",
       " 'cerave',\n",
       " 'oily',\n",
       " 'question',\n",
       " 'ordinary',\n",
       " 'night',\n",
       " 'wash',\n",
       " 'pm',\n",
       " 'started',\n",
       " 'week',\n",
       " 'vitamin',\n",
       " 'spf',\n",
       " 'sensitive',\n",
       " 'red',\n",
       " 'years',\n",
       " 'sure',\n",
       " 'months',\n",
       " 'facial',\n",
       " 'niacinamide',\n",
       " 'concerns',\n",
       " 'thanks',\n",
       " 'morning',\n",
       " 'lotion']"
      ]
     },
     "execution_count": 21,
     "metadata": {},
     "output_type": "execute_result"
    }
   ],
   "source": [
    "# SkincareAddiction\n",
    "top_words_differ1 = [i for i in top_words_skin if i not in top_words_azn]\n",
    "top_words_differ1"
   ]
  },
  {
   "cell_type": "markdown",
   "metadata": {},
   "source": [
    "##### Hypothesis test overlapping words with alpha = .05\n",
    "\n",
    ">𝐻0: The subreddits for shoes and socks have the same mean frequency for word $x$.\n",
    "\n",
    ">𝐻𝐴: The subreddits for shoes and socks have a different mean frequency for word $x$.\n",
    "\n",
    "The words with P-value less than alpha have statistically significant mean frequency in the 2 subreddits. These might also be the keywords that helps us predict their classes when modeling. Moreover, the bar chart (see codes below) helps us visualize the direction of the T-tests. This indicates which subreddit the keyword might be useful in predicting.\n",
    "\n",
    "The most valuable insights from this hypothesis testing is that there are different sets of frequent words in each subreddit that might help us build an accurate model. \n",
    "\n",
    "To summarize, besides the differentiating keywords (not overlapping), the statistically significant frequent overlapping words also alludes that each subreddit discusses the following topics more often than the other:\n",
    "\n",
    "| Subreddit         | Topics of Discussion                                             |\n",
    "|-------------------|------------------------------------------------------------------|\n",
    "| AsianBeauty       | Oily (skin), acids, serums, gels, toners                         |\n",
    "| SkincareAddiction | Makeup, acne, dry (skin), sunscreen, (face) oils, AM/PM regimens |"
   ]
  },
  {
   "cell_type": "code",
   "execution_count": 22,
   "metadata": {
    "scrolled": true
   },
   "outputs": [
    {
     "data": {
      "text/plain": [
       "{'https': Ttest_indResult(statistic=4.540273144507662, pvalue=5.655704126699901e-06),\n",
       " 'mask': Ttest_indResult(statistic=9.50076777208092, pvalue=2.346558779097109e-21),\n",
       " 'cream': Ttest_indResult(statistic=1.3992921545009043, pvalue=0.16174316837558708),\n",
       " 'oil': Ttest_indResult(statistic=-3.6102914982193774, pvalue=0.00030670996241097547),\n",
       " 'good': Ttest_indResult(statistic=5.649456715458611, pvalue=1.6346670810989142e-08),\n",
       " 'skincare': Ttest_indResult(statistic=1.1606578657186806, pvalue=0.24579694276991088),\n",
       " 'time': Ttest_indResult(statistic=0.7129151736653077, pvalue=0.47590778312821025),\n",
       " 'sunscreen': Ttest_indResult(statistic=0.7323771271363783, pvalue=0.46394825314590116),\n",
       " 'new': Ttest_indResult(statistic=5.174001067637705, pvalue=2.3167100331856512e-07),\n",
       " 'dry': Ttest_indResult(statistic=-11.103244981899794, pvalue=1.507768341962292e-28),\n",
       " 'acne': Ttest_indResult(statistic=-27.892881694292594, pvalue=1.5145465268830226e-167),\n",
       " 'think': Ttest_indResult(statistic=1.7632970197468145, pvalue=0.07786790867105255),\n",
       " 'used': Ttest_indResult(statistic=-4.353913723308995, pvalue=1.3448983783996953e-05),\n",
       " 'water': Ttest_indResult(statistic=-2.905259748169451, pvalue=0.0036740934810067963),\n",
       " 'day': Ttest_indResult(statistic=-5.088614934639205, pvalue=3.6443271376671324e-07),\n",
       " 'cleanser': Ttest_indResult(statistic=-16.932447255483442, pvalue=8.383573896129948e-64),\n",
       " 'want': Ttest_indResult(statistic=-1.0352886325950357, pvalue=0.30054848516468485),\n",
       " 'feel': Ttest_indResult(statistic=0.6079290046783307, pvalue=0.5432424741715707),\n",
       " 'toner': Ttest_indResult(statistic=0.06735506996146992, pvalue=0.9462998086544507),\n",
       " 'make': Ttest_indResult(statistic=4.718641093634345, pvalue=2.392663555790502e-06),\n",
       " 'gel': Ttest_indResult(statistic=-0.4290277020279859, pvalue=0.6679083618519712),\n",
       " 'lot': Ttest_indResult(statistic=1.9521784006584166, pvalue=0.05093299930420236),\n",
       " 'looking': Ttest_indResult(statistic=-2.5570262801377184, pvalue=0.010565507639187944),\n",
       " 'serum': Ttest_indResult(statistic=-5.271900464874719, pvalue=1.3662653217040815e-07),\n",
       " 'got': Ttest_indResult(statistic=0.7166868016053759, pvalue=0.4735769643221771),\n",
       " 'acid': Ttest_indResult(statistic=-19.338859323002435, pvalue=1.8444309786096963e-82),\n",
       " 'need': Ttest_indResult(statistic=-5.010557232712896, pvalue=5.480333216299882e-07)}"
      ]
     },
     "execution_count": 22,
     "metadata": {},
     "output_type": "execute_result"
    }
   ],
   "source": [
    "ttest_dict = {}\n",
    "for word in top_words_overlap:\n",
    "    ttest_dict[word] = ttest_ind(text_df[text_df['is_ab']==1][word], \n",
    "         text_df[text_df['is_ab']==0][word])\n",
    "    \n",
    "ttest_dict"
   ]
  },
  {
   "cell_type": "markdown",
   "metadata": {},
   "source": [
    "##### Display statistically significant overlapping words in a data frame"
   ]
  },
  {
   "cell_type": "code",
   "execution_count": 23,
   "metadata": {
    "scrolled": true
   },
   "outputs": [
    {
     "data": {
      "text/html": [
       "<div>\n",
       "<style scoped>\n",
       "    .dataframe tbody tr th:only-of-type {\n",
       "        vertical-align: middle;\n",
       "    }\n",
       "\n",
       "    .dataframe tbody tr th {\n",
       "        vertical-align: top;\n",
       "    }\n",
       "\n",
       "    .dataframe thead th {\n",
       "        text-align: right;\n",
       "    }\n",
       "</style>\n",
       "<table border=\"1\" class=\"dataframe\">\n",
       "  <thead>\n",
       "    <tr style=\"text-align: right;\">\n",
       "      <th></th>\n",
       "      <th>Statistic</th>\n",
       "      <th>p-value</th>\n",
       "    </tr>\n",
       "  </thead>\n",
       "  <tbody>\n",
       "    <tr>\n",
       "      <th>https</th>\n",
       "      <td>4.540273</td>\n",
       "      <td>5.655704e-06</td>\n",
       "    </tr>\n",
       "    <tr>\n",
       "      <th>mask</th>\n",
       "      <td>9.500768</td>\n",
       "      <td>2.346559e-21</td>\n",
       "    </tr>\n",
       "    <tr>\n",
       "      <th>oil</th>\n",
       "      <td>-3.610291</td>\n",
       "      <td>3.067100e-04</td>\n",
       "    </tr>\n",
       "    <tr>\n",
       "      <th>good</th>\n",
       "      <td>5.649457</td>\n",
       "      <td>1.634667e-08</td>\n",
       "    </tr>\n",
       "    <tr>\n",
       "      <th>new</th>\n",
       "      <td>5.174001</td>\n",
       "      <td>2.316710e-07</td>\n",
       "    </tr>\n",
       "    <tr>\n",
       "      <th>dry</th>\n",
       "      <td>-11.103245</td>\n",
       "      <td>1.507768e-28</td>\n",
       "    </tr>\n",
       "    <tr>\n",
       "      <th>acne</th>\n",
       "      <td>-27.892882</td>\n",
       "      <td>1.514547e-167</td>\n",
       "    </tr>\n",
       "    <tr>\n",
       "      <th>used</th>\n",
       "      <td>-4.353914</td>\n",
       "      <td>1.344898e-05</td>\n",
       "    </tr>\n",
       "    <tr>\n",
       "      <th>water</th>\n",
       "      <td>-2.905260</td>\n",
       "      <td>3.674093e-03</td>\n",
       "    </tr>\n",
       "    <tr>\n",
       "      <th>day</th>\n",
       "      <td>-5.088615</td>\n",
       "      <td>3.644327e-07</td>\n",
       "    </tr>\n",
       "    <tr>\n",
       "      <th>cleanser</th>\n",
       "      <td>-16.932447</td>\n",
       "      <td>8.383574e-64</td>\n",
       "    </tr>\n",
       "    <tr>\n",
       "      <th>make</th>\n",
       "      <td>4.718641</td>\n",
       "      <td>2.392664e-06</td>\n",
       "    </tr>\n",
       "    <tr>\n",
       "      <th>looking</th>\n",
       "      <td>-2.557026</td>\n",
       "      <td>1.056551e-02</td>\n",
       "    </tr>\n",
       "    <tr>\n",
       "      <th>serum</th>\n",
       "      <td>-5.271900</td>\n",
       "      <td>1.366265e-07</td>\n",
       "    </tr>\n",
       "    <tr>\n",
       "      <th>acid</th>\n",
       "      <td>-19.338859</td>\n",
       "      <td>1.844431e-82</td>\n",
       "    </tr>\n",
       "    <tr>\n",
       "      <th>need</th>\n",
       "      <td>-5.010557</td>\n",
       "      <td>5.480333e-07</td>\n",
       "    </tr>\n",
       "  </tbody>\n",
       "</table>\n",
       "</div>"
      ],
      "text/plain": [
       "          Statistic        p-value\n",
       "https      4.540273   5.655704e-06\n",
       "mask       9.500768   2.346559e-21\n",
       "oil       -3.610291   3.067100e-04\n",
       "good       5.649457   1.634667e-08\n",
       "new        5.174001   2.316710e-07\n",
       "dry      -11.103245   1.507768e-28\n",
       "acne     -27.892882  1.514547e-167\n",
       "used      -4.353914   1.344898e-05\n",
       "water     -2.905260   3.674093e-03\n",
       "day       -5.088615   3.644327e-07\n",
       "cleanser -16.932447   8.383574e-64\n",
       "make       4.718641   2.392664e-06\n",
       "looking   -2.557026   1.056551e-02\n",
       "serum     -5.271900   1.366265e-07\n",
       "acid     -19.338859   1.844431e-82\n",
       "need      -5.010557   5.480333e-07"
      ]
     },
     "execution_count": 23,
     "metadata": {},
     "output_type": "execute_result"
    }
   ],
   "source": [
    "# Convert dict to dataframe\n",
    "overlap_stats = pd.DataFrame.from_dict(ttest_dict).T\n",
    "\n",
    "# Rename columns\n",
    "overlap_stats.rename(columns={0: \"Statistic\", 1: \"p-value\"}, inplace = True)\n",
    "\n",
    "# Overlap that ARE statistically significant\n",
    "overlap_stats[(overlap_stats['p-value'] < 0.05)]\n",
    "\n",
    "# Brittney Hosac"
   ]
  },
  {
   "cell_type": "markdown",
   "metadata": {},
   "source": [
    "##### Plot statistically significant overlapping words"
   ]
  },
  {
   "cell_type": "code",
   "execution_count": 24,
   "metadata": {},
   "outputs": [
    {
     "data": {
      "image/png": "[encoded data removed]",
      "text/plain": [
       "<Figure size 432x576 with 1 Axes>"
      ]
     },
     "metadata": {
      "needs_background": "light"
     },
     "output_type": "display_data"
    }
   ],
   "source": [
    "plt.figure(figsize=(6,8))\n",
    "plt.barh(overlap_stats.index.values,\n",
    "         overlap_stats['Statistic'].sort_values(),\n",
    "        color='orange')\n",
    "\n",
    "plt.title('Statistically Significant Overlapping Common Words\\n', fontsize=24)\n",
    "plt.xlabel('T-Test')\n",
    "plt.ylabel('Words');\n",
    "\n",
    "plt.savefig('../plots/overlap_words.png', dpi=235, bbox_inches='tight')"
   ]
  },
  {
   "cell_type": "markdown",
   "metadata": {},
   "source": [
    "## Save engineered data to .csv\n",
    "---"
   ]
  },
  {
   "cell_type": "code",
   "execution_count": 25,
   "metadata": {},
   "outputs": [],
   "source": [
    "df.to_csv('../data/explored_skincare.csv', index=False)"
   ]
  }
 ],
 "metadata": {
  "kernelspec": {
   "display_name": "Python 3",
   "language": "python",
   "name": "python3"
  },
  "language_info": {
   "codemirror_mode": {
    "name": "ipython",
    "version": 3
   },
   "file_extension": ".py",
   "mimetype": "text/x-python",
   "name": "python",
   "nbconvert_exporter": "python",
   "pygments_lexer": "ipython3",
   "version": "3.7.4"
  }
 },
 "nbformat": 4,
 "nbformat_minor": 4
}

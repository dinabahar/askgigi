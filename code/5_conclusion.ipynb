{
 "cells": [
  {
   "cell_type": "markdown",
   "metadata": {},
   "source": [
    "# Conclusion\n",
    "---\n",
    "\n",
    ">Can we use NLP to accurately predict if a user’s beauty/skincare problem is best answered in the AsianBeauty subreddit?\n",
    "\n",
    "I conclude, yes, Ask Gigi can accurately predict if a user's beauty/skincare problem is best answered in the AsianBeauty subreddit approx. 90% of the time with better odds for topics in the Top 20 word with strong coefficient weights (see chart below).\n",
    "\n",
    "<img src=\"../plots/top_20_words_lg_model2.png\" width=\"70%\" height=\"70%\">\n",
    "\n",
    "\n",
    "## Recommendation\n",
    "\n",
    "I recommend using the Logistic Regression model for the production of Ask Gigi beta, so we can at least start user-testing and monitor the Reddit bounce rate for the first 3 months to measure success.\n",
    "\n",
    "## Next Steps\n",
    "1. Fine tuning keywords and stopwords to improve model accuracy.\n",
    "2. Monitor KPI and model performance at first.\n",
    "3. Build a model to see which topics are best covered by SkincareAddiction.\n",
    "4. Ask Gigi user testing: Is there mention the key words at all? Adjust model accordingly.\n",
    "5. Explore other subreddits and mediums to recommend to users, scale Ask Gigi."
   ]
  }
 ],
 "metadata": {
  "kernelspec": {
   "display_name": "Python 3",
   "language": "python",
   "name": "python3"
  },
  "language_info": {
   "codemirror_mode": {
    "name": "ipython",
    "version": 3
   },
   "file_extension": ".py",
   "mimetype": "text/x-python",
   "name": "python",
   "nbconvert_exporter": "python",
   "pygments_lexer": "ipython3",
   "version": "3.7.4"
  }
 },
 "nbformat": 4,
 "nbformat_minor": 4
}

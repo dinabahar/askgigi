{
 "cells": [
  {
   "cell_type": "markdown",
   "metadata": {},
   "source": [
    "# Modeling: Bernoulli Naive Bayes\n",
    "---\n",
    "#### Import libraries and read data\n"
   ]
  },
  {
   "cell_type": "code",
   "execution_count": 143,
   "metadata": {},
   "outputs": [],
   "source": [
    "import numpy as np\n",
    "import pandas as pd\n",
    "import matplotlib.pyplot as plt\n",
    "import pickle\n",
    "from sklearn.pipeline import Pipeline, FeatureUnion\n",
    "from sklearn.preprocessing import StandardScaler, FunctionTransformer, Binarizer\n",
    "from sklearn.linear_model import LogisticRegression\n",
    "from sklearn.model_selection import train_test_split, GridSearchCV\n",
    "from sklearn.feature_extraction.text import CountVectorizer\n",
    "from sklearn.metrics import confusion_matrix, accuracy_score\n",
    "from sklearn.naive_bayes import BernoulliNB\n",
    "import warnings\n",
    "warnings.filterwarnings('ignore')\n",
    "np.random.seed(42)"
   ]
  },
  {
   "cell_type": "code",
   "execution_count": 144,
   "metadata": {},
   "outputs": [
    {
     "data": {
      "text/html": [
       "<div>\n",
       "<style scoped>\n",
       "    .dataframe tbody tr th:only-of-type {\n",
       "        vertical-align: middle;\n",
       "    }\n",
       "\n",
       "    .dataframe tbody tr th {\n",
       "        vertical-align: top;\n",
       "    }\n",
       "\n",
       "    .dataframe thead th {\n",
       "        text-align: right;\n",
       "    }\n",
       "</style>\n",
       "<table border=\"1\" class=\"dataframe\">\n",
       "  <thead>\n",
       "    <tr style=\"text-align: right;\">\n",
       "      <th></th>\n",
       "      <th>author</th>\n",
       "      <th>title</th>\n",
       "      <th>selftext</th>\n",
       "      <th>num_comments</th>\n",
       "      <th>score</th>\n",
       "      <th>subreddit</th>\n",
       "      <th>is_ab</th>\n",
       "      <th>title_word_count</th>\n",
       "      <th>title_char_count</th>\n",
       "      <th>selftext_word_count</th>\n",
       "      <th>selftext_char_count</th>\n",
       "      <th>combined_text</th>\n",
       "    </tr>\n",
       "  </thead>\n",
       "  <tbody>\n",
       "    <tr>\n",
       "      <th>0</th>\n",
       "      <td>lululi_lululi</td>\n",
       "      <td>After working with seasoned estheticians throu...</td>\n",
       "      <td>Through our own project ([Glowism] my friend a...</td>\n",
       "      <td>4</td>\n",
       "      <td>1</td>\n",
       "      <td>asianbeauty</td>\n",
       "      <td>1</td>\n",
       "      <td>24</td>\n",
       "      <td>164</td>\n",
       "      <td>611</td>\n",
       "      <td>3798</td>\n",
       "      <td>After working with seasoned estheticians throu...</td>\n",
       "    </tr>\n",
       "    <tr>\n",
       "      <th>1</th>\n",
       "      <td>BasicBake</td>\n",
       "      <td>How often do you wash your face with just water?</td>\n",
       "      <td>Hello,\\n\\nI was wondering how often you wash y...</td>\n",
       "      <td>8</td>\n",
       "      <td>2</td>\n",
       "      <td>asianbeauty</td>\n",
       "      <td>1</td>\n",
       "      <td>9</td>\n",
       "      <td>48</td>\n",
       "      <td>109</td>\n",
       "      <td>568</td>\n",
       "      <td>How often do you wash your face with just wate...</td>\n",
       "    </tr>\n",
       "  </tbody>\n",
       "</table>\n",
       "</div>"
      ],
      "text/plain": [
       "          author                                              title  \\\n",
       "0  lululi_lululi  After working with seasoned estheticians throu...   \n",
       "1      BasicBake   How often do you wash your face with just water?   \n",
       "\n",
       "                                            selftext  num_comments  score  \\\n",
       "0  Through our own project ([Glowism] my friend a...             4      1   \n",
       "1  Hello,\\n\\nI was wondering how often you wash y...             8      2   \n",
       "\n",
       "     subreddit  is_ab  title_word_count  title_char_count  \\\n",
       "0  asianbeauty      1                24               164   \n",
       "1  asianbeauty      1                 9                48   \n",
       "\n",
       "   selftext_word_count  selftext_char_count  \\\n",
       "0                  611                 3798   \n",
       "1                  109                  568   \n",
       "\n",
       "                                       combined_text  \n",
       "0  After working with seasoned estheticians throu...  \n",
       "1  How often do you wash your face with just wate...  "
      ]
     },
     "execution_count": 144,
     "metadata": {},
     "output_type": "execute_result"
    }
   ],
   "source": [
    "df = pd.read_csv('../data/explored_skincare.csv')\n",
    "\n",
    "df.head(2)"
   ]
  },
  {
   "cell_type": "markdown",
   "metadata": {},
   "source": [
    "## Assign $X$ and $y$ variables\n",
    "---\n",
    "In this model, I am only interested in seeing if a mention of word pair in a post can predict the outcome. Thus I am only including the text feature."
   ]
  },
  {
   "cell_type": "code",
   "execution_count": 149,
   "metadata": {},
   "outputs": [],
   "source": [
    "features = ['combined_text']"
   ]
  },
  {
   "cell_type": "code",
   "execution_count": 150,
   "metadata": {},
   "outputs": [],
   "source": [
    "X = df[features]\n",
    "y = df['is_ab']"
   ]
  },
  {
   "cell_type": "markdown",
   "metadata": {},
   "source": [
    "## Train-test-split data\n",
    "---"
   ]
  },
  {
   "cell_type": "code",
   "execution_count": 151,
   "metadata": {},
   "outputs": [],
   "source": [
    "X_train, X_test, y_train, y_test = train_test_split(X, y,\n",
    "                                                   random_state = 42,\n",
    "                                                   stratify = y)"
   ]
  },
  {
   "cell_type": "markdown",
   "metadata": {},
   "source": [
    "## Set and fit model\n",
    "---\n",
    "**The Model**\n",
    "\n",
    "This Bernoulli Naive Bayes model utilizes the following parameters:\n",
    "- `ngram_range` of word pairs (2,2),\n",
    "- custom stopwords, and\n",
    "- `cv` of 5 folds.\n"
   ]
  },
  {
   "cell_type": "markdown",
   "metadata": {},
   "source": [
    "##### Step 1: Define functions to grab each features separately"
   ]
  },
  {
   "cell_type": "code",
   "execution_count": 152,
   "metadata": {},
   "outputs": [],
   "source": [
    "category = FunctionTransformer(lambda x: x['combined_text'], validate = False)\n",
    "\n",
    "# Riley Dallas and Daniel Kim"
   ]
  },
  {
   "cell_type": "markdown",
   "metadata": {},
   "source": [
    "##### Step 2: Set a pipeline with transformers and an estimator"
   ]
  },
  {
   "cell_type": "code",
   "execution_count": 153,
   "metadata": {},
   "outputs": [],
   "source": [
    "pipe = Pipeline([\n",
    "    ('selector', category),\n",
    "    ('cvec', CountVectorizer()),\n",
    "    ('bnr', Binarizer()),\n",
    "    ('bnb', BernoulliNB())\n",
    "])\n",
    "\n",
    "# Daniel Kim"
   ]
  },
  {
   "cell_type": "markdown",
   "metadata": {},
   "source": [
    "##### Step 3: Set parameters for gridsearch"
   ]
  },
  {
   "cell_type": "code",
   "execution_count": null,
   "metadata": {},
   "outputs": [],
   "source": [
    "custom_stopwords = pickle.load(open('../assets/custom_stopwords.pkl', 'rb'))"
   ]
  },
  {
   "cell_type": "code",
   "execution_count": 154,
   "metadata": {},
   "outputs": [],
   "source": [
    "params = {'cvec__stop_words' : [custom_stopwords],\n",
    "          'cvec__ngram_range' : [(2,2)]}"
   ]
  },
  {
   "cell_type": "markdown",
   "metadata": {},
   "source": [
    "##### Step 4: Instantiate and fit gridsearch"
   ]
  },
  {
   "cell_type": "code",
   "execution_count": 155,
   "metadata": {
    "scrolled": true
   },
   "outputs": [],
   "source": [
    "gs = GridSearchCV(pipe, params, cv=5)\n",
    "\n",
    "gs.fit(X_train, y_train);"
   ]
  },
  {
   "cell_type": "markdown",
   "metadata": {},
   "source": [
    "## Evaluate model\n",
    "---\n",
    "### Accuracy scores\n",
    "The model is highly overfit, as shown in the high accuracy score on training data, but low in unseen data. Compared to the baseline and the other two models' scores, this model is performing rather bad at predicting outcomes.\n",
    "\n",
    "Because of the mentioned concerns, this model is not a good option to use in production."
   ]
  },
  {
   "cell_type": "code",
   "execution_count": 156,
   "metadata": {},
   "outputs": [
    {
     "name": "stdout",
     "output_type": "stream",
     "text": [
      "Train Score: 0.9079970104633782\n",
      "Train Score: 0.65635507733692\n"
     ]
    }
   ],
   "source": [
    "print(f'Train Score: {gs.score(X_train, y_train)}')\n",
    "print(f'Train Score: {gs.score(X_test, y_test)}')"
   ]
  },
  {
   "cell_type": "markdown",
   "metadata": {},
   "source": [
    "### Check coefficient weights\n",
    "\n",
    "Looking at the top 20 coefficient weights, the most contributive features are more or less the same as the 2nd Logistic Regression iteration.\n",
    "\n",
    "However, the interpretation differs. Taking the most contributing feature, 'sheet masks,' with a weight of 0.05. A mention of sheet masks in a post increases the odds of a post coming from the AsianBeauty subreddit by 0.05 times."
   ]
  },
  {
   "cell_type": "code",
   "execution_count": 157,
   "metadata": {},
   "outputs": [],
   "source": [
    "coefficients = gs.best_estimator_.named_steps['bnb'].coef_[0]\n",
    "\n",
    "feature_names = gs.best_estimator_.named_steps['cvec'].get_feature_names()\n",
    "\n",
    "coef_df = pd.DataFrame({\n",
    "    'features': feature_names,\n",
    "    'coef' : coefficients,\n",
    "    'exp_coef': [np.exp(coef) for coef in coefficients]\n",
    "             })\n",
    "\n",
    "# Daniel Kim"
   ]
  },
  {
   "cell_type": "code",
   "execution_count": 158,
   "metadata": {
    "scrolled": true
   },
   "outputs": [
    {
     "data": {
      "text/html": [
       "<div>\n",
       "<style scoped>\n",
       "    .dataframe tbody tr th:only-of-type {\n",
       "        vertical-align: middle;\n",
       "    }\n",
       "\n",
       "    .dataframe tbody tr th {\n",
       "        vertical-align: top;\n",
       "    }\n",
       "\n",
       "    .dataframe thead th {\n",
       "        text-align: right;\n",
       "    }\n",
       "</style>\n",
       "<table border=\"1\" class=\"dataframe\">\n",
       "  <thead>\n",
       "    <tr style=\"text-align: right;\">\n",
       "      <th></th>\n",
       "      <th>features</th>\n",
       "      <th>coef</th>\n",
       "      <th>exp_coef</th>\n",
       "    </tr>\n",
       "  </thead>\n",
       "  <tbody>\n",
       "    <tr>\n",
       "      <th>397346</th>\n",
       "      <td>sheet masks</td>\n",
       "      <td>-2.92</td>\n",
       "      <td>0.05</td>\n",
       "    </tr>\n",
       "    <tr>\n",
       "      <th>406967</th>\n",
       "      <td>skin type</td>\n",
       "      <td>-3.08</td>\n",
       "      <td>0.05</td>\n",
       "    </tr>\n",
       "    <tr>\n",
       "      <th>397341</th>\n",
       "      <td>sheet mask</td>\n",
       "      <td>-3.12</td>\n",
       "      <td>0.04</td>\n",
       "    </tr>\n",
       "    <tr>\n",
       "      <th>131884</th>\n",
       "      <td>don know</td>\n",
       "      <td>-3.14</td>\n",
       "      <td>0.04</td>\n",
       "    </tr>\n",
       "    <tr>\n",
       "      <th>195465</th>\n",
       "      <td>hada labo</td>\n",
       "      <td>-3.16</td>\n",
       "      <td>0.04</td>\n",
       "    </tr>\n",
       "    <tr>\n",
       "      <th>135866</th>\n",
       "      <td>dry skin</td>\n",
       "      <td>-3.17</td>\n",
       "      <td>0.04</td>\n",
       "    </tr>\n",
       "    <tr>\n",
       "      <th>16361</th>\n",
       "      <td>acne prone</td>\n",
       "      <td>-3.25</td>\n",
       "      <td>0.04</td>\n",
       "    </tr>\n",
       "    <tr>\n",
       "      <th>147056</th>\n",
       "      <td>etude house</td>\n",
       "      <td>-3.27</td>\n",
       "      <td>0.04</td>\n",
       "    </tr>\n",
       "    <tr>\n",
       "      <th>29079</th>\n",
       "      <td>amp x200b</td>\n",
       "      <td>-3.36</td>\n",
       "      <td>0.03</td>\n",
       "    </tr>\n",
       "    <tr>\n",
       "      <th>391979</th>\n",
       "      <td>sensitive skin</td>\n",
       "      <td>-3.40</td>\n",
       "      <td>0.03</td>\n",
       "    </tr>\n",
       "    <tr>\n",
       "      <th>246477</th>\n",
       "      <td>let know</td>\n",
       "      <td>-3.47</td>\n",
       "      <td>0.03</td>\n",
       "    </tr>\n",
       "    <tr>\n",
       "      <th>212775</th>\n",
       "      <td>hyaluronic acid</td>\n",
       "      <td>-3.51</td>\n",
       "      <td>0.03</td>\n",
       "    </tr>\n",
       "    <tr>\n",
       "      <th>484797</th>\n",
       "      <td>ve using</td>\n",
       "      <td>-3.52</td>\n",
       "      <td>0.03</td>\n",
       "    </tr>\n",
       "    <tr>\n",
       "      <th>484518</th>\n",
       "      <td>ve seen</td>\n",
       "      <td>-3.57</td>\n",
       "      <td>0.03</td>\n",
       "    </tr>\n",
       "    <tr>\n",
       "      <th>309350</th>\n",
       "      <td>oily skin</td>\n",
       "      <td>-3.57</td>\n",
       "      <td>0.03</td>\n",
       "    </tr>\n",
       "    <tr>\n",
       "      <th>484795</th>\n",
       "      <td>ve used</td>\n",
       "      <td>-3.64</td>\n",
       "      <td>0.03</td>\n",
       "    </tr>\n",
       "    <tr>\n",
       "      <th>84670</th>\n",
       "      <td>cleansing oil</td>\n",
       "      <td>-3.65</td>\n",
       "      <td>0.03</td>\n",
       "    </tr>\n",
       "    <tr>\n",
       "      <th>192725</th>\n",
       "      <td>green tea</td>\n",
       "      <td>-3.71</td>\n",
       "      <td>0.02</td>\n",
       "    </tr>\n",
       "    <tr>\n",
       "      <th>347295</th>\n",
       "      <td>prone skin</td>\n",
       "      <td>-3.76</td>\n",
       "      <td>0.02</td>\n",
       "    </tr>\n",
       "    <tr>\n",
       "      <th>47101</th>\n",
       "      <td>bb cream</td>\n",
       "      <td>-3.85</td>\n",
       "      <td>0.02</td>\n",
       "    </tr>\n",
       "  </tbody>\n",
       "</table>\n",
       "</div>"
      ],
      "text/plain": [
       "               features  coef  exp_coef\n",
       "397346      sheet masks -2.92      0.05\n",
       "406967        skin type -3.08      0.05\n",
       "397341       sheet mask -3.12      0.04\n",
       "131884         don know -3.14      0.04\n",
       "195465        hada labo -3.16      0.04\n",
       "135866         dry skin -3.17      0.04\n",
       "16361        acne prone -3.25      0.04\n",
       "147056      etude house -3.27      0.04\n",
       "29079         amp x200b -3.36      0.03\n",
       "391979   sensitive skin -3.40      0.03\n",
       "246477         let know -3.47      0.03\n",
       "212775  hyaluronic acid -3.51      0.03\n",
       "484797         ve using -3.52      0.03\n",
       "484518          ve seen -3.57      0.03\n",
       "309350        oily skin -3.57      0.03\n",
       "484795          ve used -3.64      0.03\n",
       "84670     cleansing oil -3.65      0.03\n",
       "192725        green tea -3.71      0.02\n",
       "347295       prone skin -3.76      0.02\n",
       "47101          bb cream -3.85      0.02"
      ]
     },
     "execution_count": 158,
     "metadata": {},
     "output_type": "execute_result"
    }
   ],
   "source": [
    "#pd.set_option('display.max_rows', 100)\n",
    "round(coef_df.sort_values('exp_coef', ascending=False),2).head(20)\n",
    "\n",
    "# Daniel Kim"
   ]
  },
  {
   "cell_type": "markdown",
   "metadata": {},
   "source": [
    "### Plot top 20 word pairs"
   ]
  },
  {
   "cell_type": "code",
   "execution_count": 162,
   "metadata": {},
   "outputs": [],
   "source": [
    "top_20_words = coef_df.loc[4:][['features','exp_coef']].sort_values('exp_coef', ascending=True).tail(20)"
   ]
  },
  {
   "cell_type": "code",
   "execution_count": 160,
   "metadata": {},
   "outputs": [
    {
     "data": {
      "image/png": "[encoded data removed]",
      "text/plain": [
       "<Figure size 432x576 with 1 Axes>"
      ]
     },
     "metadata": {
      "needs_background": "light"
     },
     "output_type": "display_data"
    }
   ],
   "source": [
    "plt.figure(figsize=(6,8))\n",
    "plt.barh(top_20_words['features'].values,\n",
    "         top_20_words['exp_coef'].values,\n",
    "        color='skyblue')\n",
    "\n",
    "plt.title('Top 20 Word Pairs in AsianBeauty Subreddit\\n', fontsize=24)\n",
    "plt.xlabel('Odds Ratio')\n",
    "plt.ylabel('Word Pairs');"
   ]
  }
 ],
 "metadata": {
  "kernelspec": {
   "display_name": "Python 3",
   "language": "python",
   "name": "python3"
  },
  "language_info": {
   "codemirror_mode": {
    "name": "ipython",
    "version": 3
   },
   "file_extension": ".py",
   "mimetype": "text/x-python",
   "name": "python",
   "nbconvert_exporter": "python",
   "pygments_lexer": "ipython3",
   "version": "3.7.4"
  }
 },
 "nbformat": 4,
 "nbformat_minor": 4
}

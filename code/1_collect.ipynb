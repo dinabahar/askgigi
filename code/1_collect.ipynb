{
 "cells": [
  {
   "cell_type": "markdown",
   "metadata": {},
   "source": [
    "# Collect Data\n",
    "---"
   ]
  },
  {
   "cell_type": "markdown",
   "metadata": {},
   "source": [
    "## Import libraries"
   ]
  },
  {
   "cell_type": "code",
   "execution_count": 3,
   "metadata": {},
   "outputs": [],
   "source": [
    "import pandas as pd\n",
    "import requests\n",
    "import time"
   ]
  },
  {
   "cell_type": "markdown",
   "metadata": {},
   "source": [
    "## Create function to fetch subreddits\n",
    "\n",
    "Credit: Daniel Kim"
   ]
  },
  {
   "cell_type": "code",
   "execution_count": 11,
   "metadata": {},
   "outputs": [],
   "source": [
    "features = ['author', 'title', 'selftext', 'created_utc', 'num_comments', 'score']"
   ]
  },
  {
   "cell_type": "code",
   "execution_count": 39,
   "metadata": {},
   "outputs": [],
   "source": [
    "def subreddit_submissions(subreddit, n):\n",
    "    base_url = 'https://api.pushshift.io/reddit/submission/search'\n",
    "    \n",
    "    before_timestamp = round(time.time())\n",
    "    \n",
    "    all_dfs = []\n",
    "    \n",
    "    for _ in range(n):\n",
    "        print(before_timestamp)\n",
    "        params = {\n",
    "        'subreddit' : subreddit,\n",
    "        'size' : 1000,\n",
    "        'after': None,\n",
    "        'before': before_timestamp,\n",
    "        'lang': 'english',\n",
    "            }\n",
    "        \n",
    "        res = requests.get(base_url,params)\n",
    "        \n",
    "        if res.status_code == 200:\n",
    "            \n",
    "            data = res.json()['data']\n",
    "            \n",
    "            df = pd.DataFrame(data)[features]\n",
    "            before_timestamp = df['created_utc'].min()\n",
    "            \n",
    "            \n",
    "            all_dfs.append(df)\n",
    "            \n",
    "        else:\n",
    "            print(f'ERROR CODE FOR RES: {res.status_code}')\n",
    "            continue\n",
    "        \n",
    "        time.sleep(3)\n",
    "    \n",
    "    dfs = pd.concat(all_dfs)\n",
    "    \n",
    "    return dfs.drop(columns = 'created_utc')"
   ]
  },
  {
   "cell_type": "markdown",
   "metadata": {},
   "source": [
    "## Fetch `AsianBeauty` subreddit"
   ]
  },
  {
   "cell_type": "code",
   "execution_count": 42,
   "metadata": {
    "scrolled": true
   },
   "outputs": [
    {
     "name": "stdout",
     "output_type": "stream",
     "text": [
      "1587615962\n",
      "1585341815\n",
      "1582909416\n",
      "1580581888\n",
      "1578057044\n",
      "1575226235\n",
      "1572678142\n",
      "1569870800\n",
      "1567165281\n",
      "1564576402\n",
      "1562303170\n",
      "1559990350\n",
      "1557619375\n",
      "1555326057\n",
      "1553054759\n",
      "1550652325\n",
      "1548093980\n",
      "1545572234\n",
      "1542841292\n",
      "1540566120\n",
      "1538159501\n",
      "1535577108\n",
      "1532993457\n",
      "1530456974\n",
      "1528163049\n",
      "1525962159\n",
      "1523753142\n",
      "1521230396\n",
      "1519104892\n",
      "1516861142\n",
      "1514764981\n",
      "1512571472\n",
      "1510711317\n",
      "1509036704\n",
      "1506805986\n",
      "1504371852\n",
      "1501786443\n",
      "1499736162\n",
      "1497615675\n",
      "1495500675\n",
      "1493778594\n",
      "1492539514\n",
      "1491316549\n",
      "1490045020\n",
      "1488884245\n",
      "1487618841\n",
      "1486168255\n",
      "1484567892\n",
      "1482857782\n",
      "1480731115\n"
     ]
    }
   ],
   "source": [
    "azn = subreddit_submissions('AsianBeauty', 50)"
   ]
  },
  {
   "cell_type": "code",
   "execution_count": 43,
   "metadata": {},
   "outputs": [
    {
     "data": {
      "text/html": [
       "<div>\n",
       "<style scoped>\n",
       "    .dataframe tbody tr th:only-of-type {\n",
       "        vertical-align: middle;\n",
       "    }\n",
       "\n",
       "    .dataframe tbody tr th {\n",
       "        vertical-align: top;\n",
       "    }\n",
       "\n",
       "    .dataframe thead th {\n",
       "        text-align: right;\n",
       "    }\n",
       "</style>\n",
       "<table border=\"1\" class=\"dataframe\">\n",
       "  <thead>\n",
       "    <tr style=\"text-align: right;\">\n",
       "      <th></th>\n",
       "      <th>author</th>\n",
       "      <th>title</th>\n",
       "      <th>selftext</th>\n",
       "      <th>num_comments</th>\n",
       "      <th>score</th>\n",
       "    </tr>\n",
       "  </thead>\n",
       "  <tbody>\n",
       "    <tr>\n",
       "      <th>0</th>\n",
       "      <td>AutoModerator</td>\n",
       "      <td>Anti-Haul Monthly April 23, 2020</td>\n",
       "      <td>Are you on a no buy? Trying to stick to a more...</td>\n",
       "      <td>0</td>\n",
       "      <td>1</td>\n",
       "    </tr>\n",
       "    <tr>\n",
       "      <th>1</th>\n",
       "      <td>BlueswEC</td>\n",
       "      <td>[Discussion] Does BHA (salicylic acid) work we...</td>\n",
       "      <td>[removed]</td>\n",
       "      <td>0</td>\n",
       "      <td>1</td>\n",
       "    </tr>\n",
       "  </tbody>\n",
       "</table>\n",
       "</div>"
      ],
      "text/plain": [
       "          author                                              title  \\\n",
       "0  AutoModerator                   Anti-Haul Monthly April 23, 2020   \n",
       "1       BlueswEC  [Discussion] Does BHA (salicylic acid) work we...   \n",
       "\n",
       "                                            selftext  num_comments  score  \n",
       "0  Are you on a no buy? Trying to stick to a more...             0      1  \n",
       "1                                          [removed]             0      1  "
      ]
     },
     "execution_count": 43,
     "metadata": {},
     "output_type": "execute_result"
    }
   ],
   "source": [
    "azn.head(2)"
   ]
  },
  {
   "cell_type": "markdown",
   "metadata": {},
   "source": [
    "## Fetch `SkincareAddiction` subreddit"
   ]
  },
  {
   "cell_type": "code",
   "execution_count": 44,
   "metadata": {
    "scrolled": true
   },
   "outputs": [
    {
     "name": "stdout",
     "output_type": "stream",
     "text": [
      "1587616786\n",
      "1587442452\n",
      "1587278830\n",
      "1587130869\n",
      "1586963359\n",
      "1586800518\n",
      "1586637423\n",
      "1586461053\n",
      "1586263746\n",
      "1586069033\n",
      "1585877235\n",
      "1585677081\n",
      "1585478123\n",
      "1585265645\n",
      "1585042997\n",
      "1584818624\n",
      "1584561733\n",
      "1584272414\n",
      "1584011435\n",
      "1583758282\n",
      "1583517329\n",
      "1583277219\n",
      "1583063487\n",
      "1582829064\n",
      "1582590697\n",
      "1582388597\n",
      "1582158718\n",
      "1581946405\n",
      "1581691522\n",
      "1581449726\n",
      "1581261789\n",
      "1581037273\n",
      "1580825525\n",
      "1580603179\n",
      "1580408656\n",
      "1580165218\n",
      "1579899277\n",
      "1579663333\n",
      "1579460447\n",
      "1579232066\n",
      "1579002925\n",
      "1578794409\n",
      "1578595274\n",
      "1578353161\n",
      "1578159332\n",
      "1577948226\n",
      "1577684593\n",
      "1577468564\n",
      "1577157571\n",
      "1576866857\n"
     ]
    }
   ],
   "source": [
    "skin = subreddit_submissions('SkincareAddiction', 50)"
   ]
  },
  {
   "cell_type": "code",
   "execution_count": 45,
   "metadata": {},
   "outputs": [
    {
     "data": {
      "text/html": [
       "<div>\n",
       "<style scoped>\n",
       "    .dataframe tbody tr th:only-of-type {\n",
       "        vertical-align: middle;\n",
       "    }\n",
       "\n",
       "    .dataframe tbody tr th {\n",
       "        vertical-align: top;\n",
       "    }\n",
       "\n",
       "    .dataframe thead th {\n",
       "        text-align: right;\n",
       "    }\n",
       "</style>\n",
       "<table border=\"1\" class=\"dataframe\">\n",
       "  <thead>\n",
       "    <tr style=\"text-align: right;\">\n",
       "      <th></th>\n",
       "      <th>author</th>\n",
       "      <th>title</th>\n",
       "      <th>selftext</th>\n",
       "      <th>num_comments</th>\n",
       "      <th>score</th>\n",
       "    </tr>\n",
       "  </thead>\n",
       "  <tbody>\n",
       "    <tr>\n",
       "      <th>0</th>\n",
       "      <td>laurtay7166</td>\n",
       "      <td>[Routine Help] Suggestions for dehydrated to n...</td>\n",
       "      <td></td>\n",
       "      <td>1</td>\n",
       "      <td>1</td>\n",
       "    </tr>\n",
       "    <tr>\n",
       "      <th>1</th>\n",
       "      <td>atrevz</td>\n",
       "      <td>[B&amp;amp;A] Did the Fifty Shades of Snail sebace...</td>\n",
       "      <td></td>\n",
       "      <td>1</td>\n",
       "      <td>1</td>\n",
       "    </tr>\n",
       "  </tbody>\n",
       "</table>\n",
       "</div>"
      ],
      "text/plain": [
       "        author                                              title selftext  \\\n",
       "0  laurtay7166  [Routine Help] Suggestions for dehydrated to n...            \n",
       "1       atrevz  [B&amp;A] Did the Fifty Shades of Snail sebace...            \n",
       "\n",
       "   num_comments  score  \n",
       "0             1      1  \n",
       "1             1      1  "
      ]
     },
     "execution_count": 45,
     "metadata": {},
     "output_type": "execute_result"
    }
   ],
   "source": [
    "skin.head(2)"
   ]
  },
  {
   "cell_type": "markdown",
   "metadata": {},
   "source": [
    "## Label data\n",
    "\n",
    "Labeling subreddits,\n",
    " - AsianBeauty as `is_ab` = 1\n",
    " - SkincareAddiction as `is_ab` = 0\n",
    " \n",
    "NOTE: ab is short for AsianBeauty."
   ]
  },
  {
   "cell_type": "code",
   "execution_count": 46,
   "metadata": {},
   "outputs": [
    {
     "data": {
      "text/html": [
       "<div>\n",
       "<style scoped>\n",
       "    .dataframe tbody tr th:only-of-type {\n",
       "        vertical-align: middle;\n",
       "    }\n",
       "\n",
       "    .dataframe tbody tr th {\n",
       "        vertical-align: top;\n",
       "    }\n",
       "\n",
       "    .dataframe thead th {\n",
       "        text-align: right;\n",
       "    }\n",
       "</style>\n",
       "<table border=\"1\" class=\"dataframe\">\n",
       "  <thead>\n",
       "    <tr style=\"text-align: right;\">\n",
       "      <th></th>\n",
       "      <th>author</th>\n",
       "      <th>title</th>\n",
       "      <th>selftext</th>\n",
       "      <th>num_comments</th>\n",
       "      <th>score</th>\n",
       "      <th>subreddit</th>\n",
       "      <th>is_ab</th>\n",
       "    </tr>\n",
       "  </thead>\n",
       "  <tbody>\n",
       "    <tr>\n",
       "      <th>0</th>\n",
       "      <td>AutoModerator</td>\n",
       "      <td>Anti-Haul Monthly April 23, 2020</td>\n",
       "      <td>Are you on a no buy? Trying to stick to a more...</td>\n",
       "      <td>0</td>\n",
       "      <td>1</td>\n",
       "      <td>asianbeauty</td>\n",
       "      <td>1</td>\n",
       "    </tr>\n",
       "    <tr>\n",
       "      <th>1</th>\n",
       "      <td>BlueswEC</td>\n",
       "      <td>[Discussion] Does BHA (salicylic acid) work we...</td>\n",
       "      <td>[removed]</td>\n",
       "      <td>0</td>\n",
       "      <td>1</td>\n",
       "      <td>asianbeauty</td>\n",
       "      <td>1</td>\n",
       "    </tr>\n",
       "    <tr>\n",
       "      <th>2</th>\n",
       "      <td>Baumannb</td>\n",
       "      <td>Going to try Laneige</td>\n",
       "      <td>[removed]</td>\n",
       "      <td>2</td>\n",
       "      <td>1</td>\n",
       "      <td>asianbeauty</td>\n",
       "      <td>1</td>\n",
       "    </tr>\n",
       "    <tr>\n",
       "      <th>3</th>\n",
       "      <td>invicktus7</td>\n",
       "      <td>Acne Scars and Sun Spots Before and After Photos!</td>\n",
       "      <td>[removed]</td>\n",
       "      <td>0</td>\n",
       "      <td>1</td>\n",
       "      <td>asianbeauty</td>\n",
       "      <td>1</td>\n",
       "    </tr>\n",
       "    <tr>\n",
       "      <th>4</th>\n",
       "      <td>Jenny_0831</td>\n",
       "      <td>Thoughts on L'occitane skincare</td>\n",
       "      <td>[removed]</td>\n",
       "      <td>0</td>\n",
       "      <td>1</td>\n",
       "      <td>asianbeauty</td>\n",
       "      <td>1</td>\n",
       "    </tr>\n",
       "  </tbody>\n",
       "</table>\n",
       "</div>"
      ],
      "text/plain": [
       "          author                                              title  \\\n",
       "0  AutoModerator                   Anti-Haul Monthly April 23, 2020   \n",
       "1       BlueswEC  [Discussion] Does BHA (salicylic acid) work we...   \n",
       "2       Baumannb                               Going to try Laneige   \n",
       "3     invicktus7  Acne Scars and Sun Spots Before and After Photos!   \n",
       "4     Jenny_0831                    Thoughts on L'occitane skincare   \n",
       "\n",
       "                                            selftext  num_comments  score  \\\n",
       "0  Are you on a no buy? Trying to stick to a more...             0      1   \n",
       "1                                          [removed]             0      1   \n",
       "2                                          [removed]             2      1   \n",
       "3                                          [removed]             0      1   \n",
       "4                                          [removed]             0      1   \n",
       "\n",
       "     subreddit  is_ab  \n",
       "0  asianbeauty      1  \n",
       "1  asianbeauty      1  \n",
       "2  asianbeauty      1  \n",
       "3  asianbeauty      1  \n",
       "4  asianbeauty      1  "
      ]
     },
     "execution_count": 46,
     "metadata": {},
     "output_type": "execute_result"
    }
   ],
   "source": [
    "azn['subreddit'] = 'asianbeauty'\n",
    "azn['is_ab'] = 1\n",
    "\n",
    "azn.head()"
   ]
  },
  {
   "cell_type": "code",
   "execution_count": 47,
   "metadata": {},
   "outputs": [
    {
     "data": {
      "text/html": [
       "<div>\n",
       "<style scoped>\n",
       "    .dataframe tbody tr th:only-of-type {\n",
       "        vertical-align: middle;\n",
       "    }\n",
       "\n",
       "    .dataframe tbody tr th {\n",
       "        vertical-align: top;\n",
       "    }\n",
       "\n",
       "    .dataframe thead th {\n",
       "        text-align: right;\n",
       "    }\n",
       "</style>\n",
       "<table border=\"1\" class=\"dataframe\">\n",
       "  <thead>\n",
       "    <tr style=\"text-align: right;\">\n",
       "      <th></th>\n",
       "      <th>author</th>\n",
       "      <th>title</th>\n",
       "      <th>selftext</th>\n",
       "      <th>num_comments</th>\n",
       "      <th>score</th>\n",
       "      <th>subreddit</th>\n",
       "      <th>is_ab</th>\n",
       "    </tr>\n",
       "  </thead>\n",
       "  <tbody>\n",
       "    <tr>\n",
       "      <th>0</th>\n",
       "      <td>laurtay7166</td>\n",
       "      <td>[Routine Help] Suggestions for dehydrated to n...</td>\n",
       "      <td></td>\n",
       "      <td>1</td>\n",
       "      <td>1</td>\n",
       "      <td>skincareaddiction</td>\n",
       "      <td>0</td>\n",
       "    </tr>\n",
       "    <tr>\n",
       "      <th>1</th>\n",
       "      <td>atrevz</td>\n",
       "      <td>[B&amp;amp;A] Did the Fifty Shades of Snail sebace...</td>\n",
       "      <td></td>\n",
       "      <td>1</td>\n",
       "      <td>1</td>\n",
       "      <td>skincareaddiction</td>\n",
       "      <td>0</td>\n",
       "    </tr>\n",
       "    <tr>\n",
       "      <th>2</th>\n",
       "      <td>nonstickswag</td>\n",
       "      <td>[MISC] AHA/BHA not working on closed comedones</td>\n",
       "      <td>As the title says, I have closed comedones on ...</td>\n",
       "      <td>1</td>\n",
       "      <td>1</td>\n",
       "      <td>skincareaddiction</td>\n",
       "      <td>0</td>\n",
       "    </tr>\n",
       "    <tr>\n",
       "      <th>3</th>\n",
       "      <td>atrevz</td>\n",
       "      <td>Did the Fifty Shades of Snail sebaceous filame...</td>\n",
       "      <td></td>\n",
       "      <td>1</td>\n",
       "      <td>1</td>\n",
       "      <td>skincareaddiction</td>\n",
       "      <td>0</td>\n",
       "    </tr>\n",
       "    <tr>\n",
       "      <th>4</th>\n",
       "      <td>unclepube</td>\n",
       "      <td>My legs have been like this ever since I was a...</td>\n",
       "      <td></td>\n",
       "      <td>1</td>\n",
       "      <td>1</td>\n",
       "      <td>skincareaddiction</td>\n",
       "      <td>0</td>\n",
       "    </tr>\n",
       "  </tbody>\n",
       "</table>\n",
       "</div>"
      ],
      "text/plain": [
       "         author                                              title  \\\n",
       "0   laurtay7166  [Routine Help] Suggestions for dehydrated to n...   \n",
       "1        atrevz  [B&amp;A] Did the Fifty Shades of Snail sebace...   \n",
       "2  nonstickswag     [MISC] AHA/BHA not working on closed comedones   \n",
       "3        atrevz  Did the Fifty Shades of Snail sebaceous filame...   \n",
       "4     unclepube  My legs have been like this ever since I was a...   \n",
       "\n",
       "                                            selftext  num_comments  score  \\\n",
       "0                                                                1      1   \n",
       "1                                                                1      1   \n",
       "2  As the title says, I have closed comedones on ...             1      1   \n",
       "3                                                                1      1   \n",
       "4                                                                1      1   \n",
       "\n",
       "           subreddit  is_ab  \n",
       "0  skincareaddiction      0  \n",
       "1  skincareaddiction      0  \n",
       "2  skincareaddiction      0  \n",
       "3  skincareaddiction      0  \n",
       "4  skincareaddiction      0  "
      ]
     },
     "execution_count": 47,
     "metadata": {},
     "output_type": "execute_result"
    }
   ],
   "source": [
    "skin['subreddit'] = 'skincareaddiction'\n",
    "skin['is_ab'] = 0\n",
    "skin.head()"
   ]
  },
  {
   "cell_type": "code",
   "execution_count": 48,
   "metadata": {},
   "outputs": [
    {
     "data": {
      "text/plain": [
       "(50000, 7)"
      ]
     },
     "execution_count": 48,
     "metadata": {},
     "output_type": "execute_result"
    }
   ],
   "source": [
    "skin.shape"
   ]
  },
  {
   "cell_type": "markdown",
   "metadata": {},
   "source": [
    "## Combine DataFrames and reset index"
   ]
  },
  {
   "cell_type": "code",
   "execution_count": 49,
   "metadata": {},
   "outputs": [
    {
     "data": {
      "text/html": [
       "<div>\n",
       "<style scoped>\n",
       "    .dataframe tbody tr th:only-of-type {\n",
       "        vertical-align: middle;\n",
       "    }\n",
       "\n",
       "    .dataframe tbody tr th {\n",
       "        vertical-align: top;\n",
       "    }\n",
       "\n",
       "    .dataframe thead th {\n",
       "        text-align: right;\n",
       "    }\n",
       "</style>\n",
       "<table border=\"1\" class=\"dataframe\">\n",
       "  <thead>\n",
       "    <tr style=\"text-align: right;\">\n",
       "      <th></th>\n",
       "      <th>author</th>\n",
       "      <th>title</th>\n",
       "      <th>selftext</th>\n",
       "      <th>num_comments</th>\n",
       "      <th>score</th>\n",
       "      <th>subreddit</th>\n",
       "      <th>is_ab</th>\n",
       "    </tr>\n",
       "  </thead>\n",
       "  <tbody>\n",
       "    <tr>\n",
       "      <th>0</th>\n",
       "      <td>laurtay7166</td>\n",
       "      <td>[Routine Help] Suggestions for dehydrated to n...</td>\n",
       "      <td></td>\n",
       "      <td>1</td>\n",
       "      <td>1</td>\n",
       "      <td>skincareaddiction</td>\n",
       "      <td>0</td>\n",
       "    </tr>\n",
       "    <tr>\n",
       "      <th>1</th>\n",
       "      <td>atrevz</td>\n",
       "      <td>[B&amp;amp;A] Did the Fifty Shades of Snail sebace...</td>\n",
       "      <td></td>\n",
       "      <td>1</td>\n",
       "      <td>1</td>\n",
       "      <td>skincareaddiction</td>\n",
       "      <td>0</td>\n",
       "    </tr>\n",
       "    <tr>\n",
       "      <th>2</th>\n",
       "      <td>nonstickswag</td>\n",
       "      <td>[MISC] AHA/BHA not working on closed comedones</td>\n",
       "      <td>As the title says, I have closed comedones on ...</td>\n",
       "      <td>1</td>\n",
       "      <td>1</td>\n",
       "      <td>skincareaddiction</td>\n",
       "      <td>0</td>\n",
       "    </tr>\n",
       "    <tr>\n",
       "      <th>3</th>\n",
       "      <td>atrevz</td>\n",
       "      <td>Did the Fifty Shades of Snail sebaceous filame...</td>\n",
       "      <td></td>\n",
       "      <td>1</td>\n",
       "      <td>1</td>\n",
       "      <td>skincareaddiction</td>\n",
       "      <td>0</td>\n",
       "    </tr>\n",
       "    <tr>\n",
       "      <th>4</th>\n",
       "      <td>unclepube</td>\n",
       "      <td>My legs have been like this ever since I was a...</td>\n",
       "      <td></td>\n",
       "      <td>1</td>\n",
       "      <td>1</td>\n",
       "      <td>skincareaddiction</td>\n",
       "      <td>0</td>\n",
       "    </tr>\n",
       "  </tbody>\n",
       "</table>\n",
       "</div>"
      ],
      "text/plain": [
       "         author                                              title  \\\n",
       "0   laurtay7166  [Routine Help] Suggestions for dehydrated to n...   \n",
       "1        atrevz  [B&amp;A] Did the Fifty Shades of Snail sebace...   \n",
       "2  nonstickswag     [MISC] AHA/BHA not working on closed comedones   \n",
       "3        atrevz  Did the Fifty Shades of Snail sebaceous filame...   \n",
       "4     unclepube  My legs have been like this ever since I was a...   \n",
       "\n",
       "                                            selftext  num_comments  score  \\\n",
       "0                                                                1      1   \n",
       "1                                                                1      1   \n",
       "2  As the title says, I have closed comedones on ...             1      1   \n",
       "3                                                                1      1   \n",
       "4                                                                1      1   \n",
       "\n",
       "           subreddit  is_ab  \n",
       "0  skincareaddiction      0  \n",
       "1  skincareaddiction      0  \n",
       "2  skincareaddiction      0  \n",
       "3  skincareaddiction      0  \n",
       "4  skincareaddiction      0  "
      ]
     },
     "execution_count": 49,
     "metadata": {},
     "output_type": "execute_result"
    }
   ],
   "source": [
    "skincare = pd.concat([skin, azn], axis=0).reset_index(drop=True)\n",
    "\n",
    "skincare.head()"
   ]
  },
  {
   "cell_type": "code",
   "execution_count": 50,
   "metadata": {},
   "outputs": [
    {
     "data": {
      "text/plain": [
       "(100000, 7)"
      ]
     },
     "execution_count": 50,
     "metadata": {},
     "output_type": "execute_result"
    }
   ],
   "source": [
    "skincare.shape"
   ]
  },
  {
   "cell_type": "markdown",
   "metadata": {},
   "source": [
    "## Save as .csv file"
   ]
  },
  {
   "cell_type": "code",
   "execution_count": 53,
   "metadata": {},
   "outputs": [],
   "source": [
    "skincare.to_csv('../data/skincare.csv', index = False)"
   ]
  }
 ],
 "metadata": {
  "kernelspec": {
   "display_name": "Python 3",
   "language": "python",
   "name": "python3"
  },
  "language_info": {
   "codemirror_mode": {
    "name": "ipython",
    "version": 3
   },
   "file_extension": ".py",
   "mimetype": "text/x-python",
   "name": "python",
   "nbconvert_exporter": "python",
   "pygments_lexer": "ipython3",
   "version": "3.7.4"
  }
 },
 "nbformat": 4,
 "nbformat_minor": 4
}

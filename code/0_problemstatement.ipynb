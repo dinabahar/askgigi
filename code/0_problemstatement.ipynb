{
 "cells": [
  {
   "cell_type": "markdown",
   "metadata": {},
   "source": [
    "# Problem Statement\n",
    "---\n",
    "***Can we use NLP to accurately predict if a user’s beauty/skincare problem is best answered in the AsianBeauty subreddit?***\n",
    "\n",
    "The take-away from the last G-team meating was Ask Gigi. This is one the new Glossier tech product to push in 2020. The vision for Ask is to be an interactive chat room for users to come and ask for beauty and skincare advice, like a modern day advice column. The value proposition is to (eventually) curate content for our community, in the format of a newsletter, based on the user's skin concerns or beauty interests that we can pick up from their chats on Ask Gigi. With Ask Gigi, we are using the following KPI's:\n",
    "- Lead generation.\n",
    "- Gain customer insights.\n",
    "- Increase brand awareness, website traffic, and sales.\n",
    "\n",
    "Before we can make all of that happen, the beta version of Ask Gigi will be a simple chat room that will recommend user a subreddit that they might enjoy. Reddit is perfect for this first iteration of Ask Gigi, because it is a place where people can access years of digestible, science-backed information and receive support from a tight knit, active community.\n",
    "\n",
    "For Ask Gigi beta, the KPI is:\n",
    "- Minimize bounce rate on reddit.\n",
    "\n",
    "For the first iteration of Ask Gigi, we want to predict if a beauty/skincare topic at hand (brought by our user on Ask Gigi) is more frequently discussed in the AsianBeauty subreddit. The AsianBeauty subreddit is the perfect first choice, given the broad topics that they cover that we do not. Other than outsourcing industry knowledge, this is also an opportunity to expand our market reach. Hence, the problem that the Data team is asking,\n",
    ">Can we use NLP to accurately predict if a user’s beauty/skincare problem is best answered in the AsianBeauty subreddit?\n",
    "\n",
    "## Goal\n",
    "---\n",
    "\n",
    "The goal of this project is to develop a good model to predict if a user is asking beauty/skincare problems that are best answered in the AsianBeauty subreddit just by considering the keywords that they use in Ask Gigi.\n",
    "\n",
    "The success of the first iteration of Ask Gigi will be determined by the user's bounce rate from Reddit. A low bounce rate indicates our user finding value in our predictions. This success will be the building block for the G-team to scale and expand the product.\n",
    "\n",
    "## Classification model\n",
    "---\n",
    "\n",
    "The classification model that I am developing will be a Logistic Regression and a Bernoulli Naive Bayes for comparison.\n",
    "\n",
    "### Model evaluation metrics\n",
    "\n",
    "1. **Accuracy scores:** I will first and foremost look at the discrepancy in accuracy scores between training and testing data. A big discrepancy indicates an over or underfit, which is a symptom of a bad model.\n",
    "\n",
    "2. **Confusion matrices:** If the model returns with acceptible accuracy scores, then I will check the confusion matrices to gain more insights on how it correctly or incorrectly predicts observations.\n",
    "\n",
    "3. **Coefficient weights:** Observing the coefficient weights will also tell me the contributing features to the predictions made by the model are useful in relation to the problem at hand. I will review if there are features to be added or removed by looking at the coefficient weights and  and adjust accordingly."
   ]
  },
  {
   "cell_type": "code",
   "execution_count": null,
   "metadata": {},
   "outputs": [],
   "source": []
  }
 ],
 "metadata": {
  "kernelspec": {
   "display_name": "Python 3",
   "language": "python",
   "name": "python3"
  },
  "language_info": {
   "codemirror_mode": {
    "name": "ipython",
    "version": 3
   },
   "file_extension": ".py",
   "mimetype": "text/x-python",
   "name": "python",
   "nbconvert_exporter": "python",
   "pygments_lexer": "ipython3",
   "version": "3.7.4"
  }
 },
 "nbformat": 4,
 "nbformat_minor": 4
}

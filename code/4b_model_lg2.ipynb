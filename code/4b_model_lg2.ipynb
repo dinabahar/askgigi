{
 "cells": [
  {
   "cell_type": "markdown",
   "metadata": {},
   "source": [
    "# Modeling: 2nd Iteration of Logistic Regression\n",
    "---\n",
    "#### Import libraries and read data\n"
   ]
  },
  {
   "cell_type": "code",
   "execution_count": 1,
   "metadata": {},
   "outputs": [],
   "source": [
    "import numpy as np\n",
    "import pandas as pd\n",
    "import matplotlib.pyplot as plt\n",
    "import pickle\n",
    "from sklearn.pipeline import Pipeline, FeatureUnion\n",
    "from sklearn.preprocessing import StandardScaler, FunctionTransformer\n",
    "from sklearn.linear_model import LogisticRegression\n",
    "from sklearn.model_selection import train_test_split, GridSearchCV\n",
    "from sklearn.feature_extraction.text import CountVectorizer\n",
    "from sklearn.metrics import confusion_matrix, accuracy_score, plot_confusion_matrix\n",
    "import warnings\n",
    "warnings.filterwarnings('ignore')\n",
    "np.random.seed(42)"
   ]
  },
  {
   "cell_type": "code",
   "execution_count": 2,
   "metadata": {},
   "outputs": [
    {
     "data": {
      "text/html": [
       "<div>\n",
       "<style scoped>\n",
       "    .dataframe tbody tr th:only-of-type {\n",
       "        vertical-align: middle;\n",
       "    }\n",
       "\n",
       "    .dataframe tbody tr th {\n",
       "        vertical-align: top;\n",
       "    }\n",
       "\n",
       "    .dataframe thead th {\n",
       "        text-align: right;\n",
       "    }\n",
       "</style>\n",
       "<table border=\"1\" class=\"dataframe\">\n",
       "  <thead>\n",
       "    <tr style=\"text-align: right;\">\n",
       "      <th></th>\n",
       "      <th>author</th>\n",
       "      <th>title</th>\n",
       "      <th>selftext</th>\n",
       "      <th>num_comments</th>\n",
       "      <th>score</th>\n",
       "      <th>subreddit</th>\n",
       "      <th>is_ab</th>\n",
       "      <th>title_word_count</th>\n",
       "      <th>title_char_count</th>\n",
       "      <th>selftext_word_count</th>\n",
       "      <th>selftext_char_count</th>\n",
       "      <th>combined_text</th>\n",
       "    </tr>\n",
       "  </thead>\n",
       "  <tbody>\n",
       "    <tr>\n",
       "      <th>0</th>\n",
       "      <td>lululi_lululi</td>\n",
       "      <td>working seasoned estheticians hundreds consult...</td>\n",
       "      <td>project glowism https glowism friend female en...</td>\n",
       "      <td>4</td>\n",
       "      <td>1</td>\n",
       "      <td>asianbeauty</td>\n",
       "      <td>1</td>\n",
       "      <td>10</td>\n",
       "      <td>95</td>\n",
       "      <td>259</td>\n",
       "      <td>2031</td>\n",
       "      <td>working seasoned estheticians hundreds consult...</td>\n",
       "    </tr>\n",
       "    <tr>\n",
       "      <th>1</th>\n",
       "      <td>BasicBake</td>\n",
       "      <td>wash water</td>\n",
       "      <td>hello wondering wash water usually refrained w...</td>\n",
       "      <td>8</td>\n",
       "      <td>2</td>\n",
       "      <td>asianbeauty</td>\n",
       "      <td>1</td>\n",
       "      <td>1</td>\n",
       "      <td>10</td>\n",
       "      <td>35</td>\n",
       "      <td>237</td>\n",
       "      <td>wash water hello wondering wash water usually ...</td>\n",
       "    </tr>\n",
       "  </tbody>\n",
       "</table>\n",
       "</div>"
      ],
      "text/plain": [
       "          author                                              title  \\\n",
       "0  lululi_lululi  working seasoned estheticians hundreds consult...   \n",
       "1      BasicBake                                         wash water   \n",
       "\n",
       "                                            selftext  num_comments  score  \\\n",
       "0  project glowism https glowism friend female en...             4      1   \n",
       "1  hello wondering wash water usually refrained w...             8      2   \n",
       "\n",
       "     subreddit  is_ab  title_word_count  title_char_count  \\\n",
       "0  asianbeauty      1                10                95   \n",
       "1  asianbeauty      1                 1                10   \n",
       "\n",
       "   selftext_word_count  selftext_char_count  \\\n",
       "0                  259                 2031   \n",
       "1                   35                  237   \n",
       "\n",
       "                                       combined_text  \n",
       "0  working seasoned estheticians hundreds consult...  \n",
       "1  wash water hello wondering wash water usually ...  "
      ]
     },
     "execution_count": 2,
     "metadata": {},
     "output_type": "execute_result"
    }
   ],
   "source": [
    "df = pd.read_csv('../data/explored_skincare.csv')\n",
    "\n",
    "df.head(2)"
   ]
  },
  {
   "cell_type": "markdown",
   "metadata": {},
   "source": [
    "## Assign $X$ and $y$ variables\n",
    "---"
   ]
  },
  {
   "cell_type": "code",
   "execution_count": 3,
   "metadata": {},
   "outputs": [],
   "source": [
    "features = [\n",
    "    'combined_text',\n",
    "    'num_comments',\n",
    "    'score',\n",
    "    'title_word_count',\n",
    "    'title_char_count',\n",
    "    'selftext_word_count',\n",
    "    'selftext_char_count']"
   ]
  },
  {
   "cell_type": "code",
   "execution_count": 4,
   "metadata": {},
   "outputs": [],
   "source": [
    "X = df[features]\n",
    "y = df['is_ab']"
   ]
  },
  {
   "cell_type": "markdown",
   "metadata": {},
   "source": [
    "## Train-test-split data\n",
    "---"
   ]
  },
  {
   "cell_type": "code",
   "execution_count": 5,
   "metadata": {},
   "outputs": [],
   "source": [
    "X_train, X_test, y_train, y_test = train_test_split(X, y,\n",
    "                                                   random_state = 42,\n",
    "                                                   stratify = y)"
   ]
  },
  {
   "cell_type": "markdown",
   "metadata": {},
   "source": [
    "## Set and fit model\n",
    "---\n",
    "**The Model**\n",
    "\n",
    "The second iteration of the Logistic Regression model utilized the,\n",
    "- `penalty` of l2 (ridge regularization),\n",
    "- `ngram_range` of word pairs (2,2),\n",
    "- custom stopwords, and\n",
    "- `cv` of 5 folds.\n",
    "\n"
   ]
  },
  {
   "cell_type": "markdown",
   "metadata": {},
   "source": [
    "##### Step 1: Define functions to grab each features separately"
   ]
  },
  {
   "cell_type": "code",
   "execution_count": 6,
   "metadata": {},
   "outputs": [],
   "source": [
    "numeric = FunctionTransformer(lambda x: x.drop(columns = 'combined_text'), validate = False)\n",
    "\n",
    "category = FunctionTransformer(lambda x: x['combined_text'], validate = False)\n",
    "\n",
    "# Riley Dallas and Daniel Kim"
   ]
  },
  {
   "cell_type": "markdown",
   "metadata": {},
   "source": [
    "##### Step 2: Set a pipeline with transformers and an estimator"
   ]
  },
  {
   "cell_type": "code",
   "execution_count": 7,
   "metadata": {},
   "outputs": [],
   "source": [
    "pipe = Pipeline([\n",
    "    ('features', FeatureUnion([\n",
    "            ('numeric_pipe', Pipeline([\n",
    "                ('selector', numeric),\n",
    "                ('ss', StandardScaler())\n",
    "            ])),\n",
    "            ('category_pipe', Pipeline([\n",
    "                ('selector', category),\n",
    "                ('cvec', CountVectorizer())\n",
    "            ]))\n",
    "    ])),\n",
    "    ('logreg', LogisticRegression())\n",
    "])\n",
    "\n",
    "# Daniel Kim"
   ]
  },
  {
   "cell_type": "markdown",
   "metadata": {},
   "source": [
    "##### Step 3: Set parameters for gridsearch"
   ]
  },
  {
   "cell_type": "code",
   "execution_count": 8,
   "metadata": {},
   "outputs": [],
   "source": [
    "custom_stopwords = pickle.load(open('../assets/custom_stopwords.pkl', 'rb'))"
   ]
  },
  {
   "cell_type": "code",
   "execution_count": 9,
   "metadata": {},
   "outputs": [],
   "source": [
    "params = {\n",
    "    'features__category_pipe__cvec__stop_words' : [custom_stopwords],\n",
    "    'features__category_pipe__cvec__ngram_range' : [(2,2)],\n",
    "    'logreg__penalty' : ['l2']\n",
    "}"
   ]
  },
  {
   "cell_type": "markdown",
   "metadata": {},
   "source": [
    "##### Step 4: Instantiate and fit gridsearch"
   ]
  },
  {
   "cell_type": "code",
   "execution_count": 10,
   "metadata": {
    "scrolled": true
   },
   "outputs": [],
   "source": [
    "gs = GridSearchCV(pipe, params, cv=5)\n",
    "\n",
    "gs.fit(X_train, y_train);"
   ]
  },
  {
   "cell_type": "markdown",
   "metadata": {},
   "source": [
    "## Evaluate Model\n",
    "---\n",
    "**Accuracy scores**\n",
    "\n",
    "The differing accuracy scores are evidence that this model is overfit. However, it is still correctly predicting approx. 90% of unseen data.\n",
    "\n",
    "We can use this model in production given it's chance of misclassifying is only around 10% of the time. More importantly, given that there are a lot of overlapping topics covered by the two subreddits as seen in EDA, the risk of misclassification is low. A user might still find her answers in the subreddit we send them to.\n",
    "\n",
    "**Confusion matrix**\n",
    "\n",
    "Moreover, when we look at the test data confusion matrix heatmap below, the model is slightly better at predicting True Negatives (yellow box) than True Positives (green box). We expect to have a fairly even split between correct predictions given our effort to have a balanced class to begin with. However, this slight imbalance is expected, because we removed keywords that helped predict AsianBeauty ($y$ = 1). This trade off is neccessary to gain valuable insights to which topics are discussed more often in the AsianBeauty subreddit and consequently serve the goal of Ask Gigi.\n",
    "\n",
    "**Coefficient weights**\n",
    "\n",
    "Which brings me to coefficient weights. Looking at the coefficient weights, we can see the features and/or words that are most contributive to predicting if an observation is from the AsianBeauty subreddit or not. Because, all else held constant, if a feature has a coefficient weight of 10, a 1 unit increase in the feature means a 10x increase in odds that the observation is of class $y$ = 1. However, if another feature has a weight of 0, a 1 unit increase in the feature does not change the odds of an observation being $y$ = 1.\n",
    "\n",
    "In other words, I gain insights to which topis are discussed more often in the AsianBeauty subreddit than the alternative by looking at the strongest coefficient weights. \n",
    "\n",
    "In this second iteration, I'm looking into word pairs instead of a word by itself. I found this to be most helpful in understanding the context of discussions covered in AsianBeauty. The top 20 word pairs includes the keywords that are related to the keywords we found to be statistically significant tells in EDA except for words regarding 'oily'.\n",
    "\n",
    "Most of the words in the top 20 word pairs were found in EDA such as sheet masks, snail, and cosrx. But the more interesting findings include mentions of sunscreen, dry (skin), and plastic surgery. The first two topics were showing up more in the SkincareAddiction subreddit and I expected them to have low coefficient weights. However, we did analyze word frequency in EDA on their own, thus the word pair, 'plastic surgery,' was not indicated.\n",
    "\n",
    "### Calculate accuracy scores"
   ]
  },
  {
   "cell_type": "code",
   "execution_count": 11,
   "metadata": {},
   "outputs": [
    {
     "name": "stdout",
     "output_type": "stream",
     "text": [
      "Train Score: 0.9996979536358831\n",
      "Train Score: 0.8668176670441676\n"
     ]
    }
   ],
   "source": [
    "print(f'Train Score: {gs.score(X_train, y_train)}')\n",
    "print(f'Train Score: {gs.score(X_test, y_test)}')"
   ]
  },
  {
   "cell_type": "markdown",
   "metadata": {},
   "source": [
    "### Plot confusion Matrices\n",
    "\n",
    "##### Train data"
   ]
  },
  {
   "cell_type": "code",
   "execution_count": 12,
   "metadata": {},
   "outputs": [
    {
     "data": {
      "image/png": "[encoded data removed]",
      "text/plain": [
       "<Figure size 432x288 with 2 Axes>"
      ]
     },
     "metadata": {
      "needs_background": "light"
     },
     "output_type": "display_data"
    }
   ],
   "source": [
    "plot_confusion_matrix(gs, X_train, y_train, values_format='.0f');"
   ]
  },
  {
   "cell_type": "markdown",
   "metadata": {},
   "source": [
    "##### Test data"
   ]
  },
  {
   "cell_type": "code",
   "execution_count": 13,
   "metadata": {},
   "outputs": [
    {
     "data": {
      "image/png": "[encoded data removed]",
      "text/plain": [
       "<Figure size 432x288 with 2 Axes>"
      ]
     },
     "metadata": {
      "needs_background": "light"
     },
     "output_type": "display_data"
    }
   ],
   "source": [
    "plot_confusion_matrix(gs, X_test, y_test, values_format='.0f');\n",
    "\n",
    "plt.title('Test Data Confusion Matrix Heatmap\\n', size=15)\n",
    "\n",
    "plt.savefig('../plots/test_conf_matrix_lg_model2.png', dpi=235, bbox_inches='tight')"
   ]
  },
  {
   "cell_type": "markdown",
   "metadata": {},
   "source": [
    "### Check coefficient weights"
   ]
  },
  {
   "cell_type": "code",
   "execution_count": 14,
   "metadata": {},
   "outputs": [],
   "source": [
    "coefficients = gs.best_estimator_.named_steps['logreg'].coef_[0]\n",
    "\n",
    "feature_names = ['num_comments','score','title_word_count','title_char_count','selftext_word_count','selftext_char_count'] + \\\n",
    "gs.best_estimator_.named_steps['features'].transformer_list[1][1].named_steps['cvec'].get_feature_names()\n",
    "\n",
    "coef_df = pd.DataFrame({'features': feature_names, \n",
    "              'coef' : coefficients,\n",
    "              'exp_coef': [np.exp(coef) for coef in coefficients]\n",
    "             })\n",
    "\n",
    "# Daniel Kim"
   ]
  },
  {
   "cell_type": "code",
   "execution_count": 15,
   "metadata": {
    "scrolled": true
   },
   "outputs": [
    {
     "data": {
      "text/html": [
       "<div>\n",
       "<style scoped>\n",
       "    .dataframe tbody tr th:only-of-type {\n",
       "        vertical-align: middle;\n",
       "    }\n",
       "\n",
       "    .dataframe tbody tr th {\n",
       "        vertical-align: top;\n",
       "    }\n",
       "\n",
       "    .dataframe thead th {\n",
       "        text-align: right;\n",
       "    }\n",
       "</style>\n",
       "<table border=\"1\" class=\"dataframe\">\n",
       "  <thead>\n",
       "    <tr style=\"text-align: right;\">\n",
       "      <th></th>\n",
       "      <th>features</th>\n",
       "      <th>coef</th>\n",
       "      <th>exp_coef</th>\n",
       "    </tr>\n",
       "  </thead>\n",
       "  <tbody>\n",
       "    <tr>\n",
       "      <th>1</th>\n",
       "      <td>score</td>\n",
       "      <td>8.86</td>\n",
       "      <td>7065.40</td>\n",
       "    </tr>\n",
       "    <tr>\n",
       "      <th>403154</th>\n",
       "      <td>sheet masks</td>\n",
       "      <td>1.81</td>\n",
       "      <td>6.14</td>\n",
       "    </tr>\n",
       "    <tr>\n",
       "      <th>36527</th>\n",
       "      <td>bb cream</td>\n",
       "      <td>1.56</td>\n",
       "      <td>4.76</td>\n",
       "    </tr>\n",
       "    <tr>\n",
       "      <th>140699</th>\n",
       "      <td>etude house</td>\n",
       "      <td>1.33</td>\n",
       "      <td>3.77</td>\n",
       "    </tr>\n",
       "    <tr>\n",
       "      <th>403149</th>\n",
       "      <td>sheet mask</td>\n",
       "      <td>1.33</td>\n",
       "      <td>3.77</td>\n",
       "    </tr>\n",
       "    <tr>\n",
       "      <th>190278</th>\n",
       "      <td>hada labo</td>\n",
       "      <td>1.12</td>\n",
       "      <td>3.06</td>\n",
       "    </tr>\n",
       "    <tr>\n",
       "      <th>36530</th>\n",
       "      <td>bb cushion</td>\n",
       "      <td>1.09</td>\n",
       "      <td>2.97</td>\n",
       "    </tr>\n",
       "    <tr>\n",
       "      <th>207366</th>\n",
       "      <td>https redd</td>\n",
       "      <td>1.04</td>\n",
       "      <td>2.83</td>\n",
       "    </tr>\n",
       "    <tr>\n",
       "      <th>104817</th>\n",
       "      <td>cushion foundation</td>\n",
       "      <td>1.03</td>\n",
       "      <td>2.81</td>\n",
       "    </tr>\n",
       "    <tr>\n",
       "      <th>415669</th>\n",
       "      <td>snail essence</td>\n",
       "      <td>0.99</td>\n",
       "      <td>2.68</td>\n",
       "    </tr>\n",
       "    <tr>\n",
       "      <th>410640</th>\n",
       "      <td>skincare makeup</td>\n",
       "      <td>0.94</td>\n",
       "      <td>2.56</td>\n",
       "    </tr>\n",
       "    <tr>\n",
       "      <th>334361</th>\n",
       "      <td>plastic surgery</td>\n",
       "      <td>0.94</td>\n",
       "      <td>2.55</td>\n",
       "    </tr>\n",
       "    <tr>\n",
       "      <th>412570</th>\n",
       "      <td>sleeping mask</td>\n",
       "      <td>0.92</td>\n",
       "      <td>2.52</td>\n",
       "    </tr>\n",
       "    <tr>\n",
       "      <th>466815</th>\n",
       "      <td>toner essence</td>\n",
       "      <td>0.90</td>\n",
       "      <td>2.46</td>\n",
       "    </tr>\n",
       "    <tr>\n",
       "      <th>468036</th>\n",
       "      <td>tony moly</td>\n",
       "      <td>0.89</td>\n",
       "      <td>2.43</td>\n",
       "    </tr>\n",
       "    <tr>\n",
       "      <th>36528</th>\n",
       "      <td>bb creams</td>\n",
       "      <td>0.88</td>\n",
       "      <td>2.42</td>\n",
       "    </tr>\n",
       "    <tr>\n",
       "      <th>160733</th>\n",
       "      <td>fine line</td>\n",
       "      <td>0.85</td>\n",
       "      <td>2.34</td>\n",
       "    </tr>\n",
       "    <tr>\n",
       "      <th>411621</th>\n",
       "      <td>skinfood skinfood</td>\n",
       "      <td>0.82</td>\n",
       "      <td>2.28</td>\n",
       "    </tr>\n",
       "    <tr>\n",
       "      <th>95955</th>\n",
       "      <td>cosrx bha</td>\n",
       "      <td>0.82</td>\n",
       "      <td>2.27</td>\n",
       "    </tr>\n",
       "    <tr>\n",
       "      <th>441692</th>\n",
       "      <td>sunscreen sunscreen</td>\n",
       "      <td>0.81</td>\n",
       "      <td>2.25</td>\n",
       "    </tr>\n",
       "  </tbody>\n",
       "</table>\n",
       "</div>"
      ],
      "text/plain": [
       "                   features  coef  exp_coef\n",
       "1                     score  8.86   7065.40\n",
       "403154          sheet masks  1.81      6.14\n",
       "36527              bb cream  1.56      4.76\n",
       "140699          etude house  1.33      3.77\n",
       "403149           sheet mask  1.33      3.77\n",
       "190278            hada labo  1.12      3.06\n",
       "36530            bb cushion  1.09      2.97\n",
       "207366           https redd  1.04      2.83\n",
       "104817   cushion foundation  1.03      2.81\n",
       "415669        snail essence  0.99      2.68\n",
       "410640      skincare makeup  0.94      2.56\n",
       "334361      plastic surgery  0.94      2.55\n",
       "412570        sleeping mask  0.92      2.52\n",
       "466815        toner essence  0.90      2.46\n",
       "468036            tony moly  0.89      2.43\n",
       "36528             bb creams  0.88      2.42\n",
       "160733            fine line  0.85      2.34\n",
       "411621    skinfood skinfood  0.82      2.28\n",
       "95955             cosrx bha  0.82      2.27\n",
       "441692  sunscreen sunscreen  0.81      2.25"
      ]
     },
     "execution_count": 15,
     "metadata": {},
     "output_type": "execute_result"
    }
   ],
   "source": [
    "#pd.set_option('display.max_rows', 100)\n",
    "round(coef_df.sort_values('exp_coef', ascending=False),2).head(20)\n",
    "\n",
    "# Daniel Kim"
   ]
  },
  {
   "cell_type": "markdown",
   "metadata": {},
   "source": [
    "### Plot top 20 word pairs"
   ]
  },
  {
   "cell_type": "code",
   "execution_count": 16,
   "metadata": {},
   "outputs": [],
   "source": [
    "top_20_words = coef_df.loc[4:][['features','exp_coef']].sort_values('exp_coef', ascending=True).tail(20)"
   ]
  },
  {
   "cell_type": "code",
   "execution_count": 17,
   "metadata": {},
   "outputs": [
    {
     "data": {
      "image/png": "[encoded data removed]",
      "text/plain": [
       "<Figure size 432x576 with 1 Axes>"
      ]
     },
     "metadata": {
      "needs_background": "light"
     },
     "output_type": "display_data"
    }
   ],
   "source": [
    "plt.figure(figsize=(6,8))\n",
    "plt.barh(top_20_words['features'].values,\n",
    "         top_20_words['exp_coef'].values,\n",
    "        color='skyblue')\n",
    "\n",
    "plt.title('Top 20 Word Pairs in AsianBeauty Subreddit\\n', fontsize=24)\n",
    "plt.xlabel('Odds Ratio')\n",
    "plt.ylabel('Word Pairs');\n",
    "\n",
    "plt.savefig('../plots/top_20_words_lg_model2.png', dpi=235, bbox_inches='tight')"
   ]
  }
 ],
 "metadata": {
  "kernelspec": {
   "display_name": "Python 3",
   "language": "python",
   "name": "python3"
  },
  "language_info": {
   "codemirror_mode": {
    "name": "ipython",
    "version": 3
   },
   "file_extension": ".py",
   "mimetype": "text/x-python",
   "name": "python",
   "nbconvert_exporter": "python",
   "pygments_lexer": "ipython3",
   "version": "3.7.4"
  }
 },
 "nbformat": 4,
 "nbformat_minor": 4
}
